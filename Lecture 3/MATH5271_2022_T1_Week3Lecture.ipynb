{
 "cells": [
  {
   "cell_type": "markdown",
   "metadata": {
    "id": "pumJKWaN_KQp",
    "slideshow": {
     "slide_type": "slide"
    }
   },
   "source": [
    "# MATH5271 Environmental Data Science and Statistics\n",
    "\n",
    "\n",
    "\n",
    "## Week 3: Time Series I - Time domain\n",
    "\n"
   ]
  },
  {
   "cell_type": "markdown",
   "metadata": {
    "slideshow": {
     "slide_type": "slide"
    }
   },
   "source": [
    "### Welcome to Week 3 of MATH5271. This session is the first of two on time series analysis. By the end of this session you should understand:\n",
    "\n",
    "- Utility of both time domain and frequency domain methods;\n",
    "- How to model discrete data using Multi-state Markov Chain models;\n",
    "- How to model continuous data using auto-regression models."
   ]
  },
  {
   "cell_type": "markdown",
   "metadata": {
    "slideshow": {
     "slide_type": "slide"
    }
   },
   "source": [
    "## Terminology\n",
    "\n",
    "What do the following terms mean?\n",
    "\n",
    "- Steady\n",
    "- Stationairy\n",
    "- Cyclical\n",
    "- Ergodic*"
   ]
  },
  {
   "cell_type": "markdown",
   "metadata": {
    "slideshow": {
     "slide_type": "slide"
    }
   },
   "source": [
    "## In terms of time series terminology, how would you describe the following processes:\n",
    "\n",
    "- El Nino Southern Oscilation measured over a decade;\n",
    "- Rain drops falling on your roof during a constant shower;\n",
    "- A large Himalayan Glacier measured annually over 10 years;\n",
    "- Sea ice coverage in the Arctic Ocean."
   ]
  },
  {
   "cell_type": "markdown",
   "metadata": {
    "slideshow": {
     "slide_type": "slide"
    }
   },
   "source": [
    "## Time Series Models\n",
    "\n",
    "Unlike in Statistical Forecasting where we had either a proxy (e.g. nearby temperature) or a process based model (e.g. Numerical Weather Prediction) with which to make a model. In time series analysis we aim to understand, and potentially predict, the behaviour of a single time series. There are two approaches we will discuss:\n",
    "\n",
    "- Time domain analysis;\n",
    "- Frequency domain or Harmonic analysis.\n",
    "\n",
    "\n"
   ]
  },
  {
   "cell_type": "markdown",
   "metadata": {
    "slideshow": {
     "slide_type": "slide"
    }
   },
   "source": [
    "## Time Domain\n",
    "\n",
    "Future State = f(previous state, earlier state, even earlier state...)\n",
    "\n",
    "## Frequency Domain\n",
    "\n",
    "Future State = Stage in cycle 1 + Stage in cycle 2 + ... "
   ]
  },
  {
   "cell_type": "markdown",
   "metadata": {
    "slideshow": {
     "slide_type": "skip"
    }
   },
   "source": [
    "## Setup and Load Data\n",
    "\n",
    "Before we get started we need to ensure we have the appropriate 'libraries' are installed. The .csv files we upload will be uploaded into a 'pandas' data frame. We will use the 'numpy' (numerical python) package to do some basic maths with the data and Matplotlib's 'pyplot' package to make some pretty graphs. "
   ]
  },
  {
   "cell_type": "code",
   "execution_count": 2,
   "metadata": {
    "slideshow": {
     "slide_type": "skip"
    }
   },
   "outputs": [],
   "source": [
    "# import libraries\n",
    "import pandas as pd\n",
    "\n",
    "# Numerics\n",
    "import numpy as np\n",
    "\n",
    "# Plotting\n",
    "import matplotlib.pyplot as plt\n",
    "\n",
    "# plot figures in Colaboratory notebook\n",
    "%matplotlib inline\n",
    "\n",
    "# Define the URL where the data set is stored\n",
    "TableA1_url = 'https://raw.githubusercontent.com/janzika/MATH5271/main/Wilks_TableA1.csv' \n",
    "\n",
    "# Import the data set as a Pandas Dataframe using the 'read_csv' function\n",
    "df1 = pd.read_csv(TableA1_url)\n",
    "\n",
    "# Subset just the Ithaca and Canandaigua data\n",
    "idf = df1[df1['Location'].isin(['Ithaca'])]\n",
    "cdf = df1[df1['Location'].isin(['Canandaigua'])]\n",
    "\n",
    "# Define a new column with logical 0 for no rain and 1 for rain\n",
    "idf.insert(4,\"Rain\",[1 if x > 0 else 0 for x in idf.Precip_inch])\n",
    "\n",
    "#Copy the data frame from the 2nd of January and add a 'rained yesterday' columnx\n",
    "idf2 = idf[1:].copy()\n",
    "idf2.insert(5,\"Rain_Yesterday\",idf.Rain[0:-1].values)"
   ]
  },
  {
   "cell_type": "markdown",
   "metadata": {
    "slideshow": {
     "slide_type": "slide"
    }
   },
   "source": [
    "# Time domain"
   ]
  },
  {
   "cell_type": "code",
   "execution_count": 3,
   "metadata": {
    "slideshow": {
     "slide_type": "fragment"
    }
   },
   "outputs": [
    {
     "data": {
      "image/png": "[encoded data removed]",
      "text/plain": [
       "<Figure size 432x288 with 1 Axes>"
      ]
     },
     "metadata": {
      "needs_background": "light"
     },
     "output_type": "display_data"
    }
   ],
   "source": [
    "plt.plot(idf2.Date,idf2.Rain)\n",
    "plt.xlabel('Ithaca January 1987 (Day)');\n",
    "plt.ylabel('1 = Rain, 0 = None'); "
   ]
  },
  {
   "cell_type": "markdown",
   "metadata": {
    "slideshow": {
     "slide_type": "fragment"
    }
   },
   "source": [
    "### How could we model this?"
   ]
  },
  {
   "cell_type": "markdown",
   "metadata": {
    "slideshow": {
     "slide_type": "slide"
    }
   },
   "source": [
    "## Markov Chain\n",
    "\n",
    "![MarkovChain.png](https://github.com/janzika/MATH5271/blob/main/Lecture%203/MarkovChain.png?raw=true)"
   ]
  },
  {
   "cell_type": "code",
   "execution_count": 4,
   "metadata": {
    "slideshow": {
     "slide_type": "slide"
    }
   },
   "outputs": [
    {
     "data": {
      "text/html": [
       "<div>\n",
       "<style scoped>\n",
       "    .dataframe tbody tr th:only-of-type {\n",
       "        vertical-align: middle;\n",
       "    }\n",
       "\n",
       "    .dataframe tbody tr th {\n",
       "        vertical-align: top;\n",
       "    }\n",
       "\n",
       "    .dataframe thead th {\n",
       "        text-align: right;\n",
       "    }\n",
       "</style>\n",
       "<table border=\"1\" class=\"dataframe\">\n",
       "  <thead>\n",
       "    <tr style=\"text-align: right;\">\n",
       "      <th></th>\n",
       "      <th>Year</th>\n",
       "      <th>Month</th>\n",
       "      <th>Date</th>\n",
       "      <th>Precip_inch</th>\n",
       "      <th>Rain</th>\n",
       "      <th>Rain_Yesterday</th>\n",
       "      <th>MaxTemp_Far</th>\n",
       "      <th>MinTemp_Far</th>\n",
       "      <th>Location</th>\n",
       "    </tr>\n",
       "  </thead>\n",
       "  <tbody>\n",
       "    <tr>\n",
       "      <th>1</th>\n",
       "      <td>1987</td>\n",
       "      <td>1</td>\n",
       "      <td>2</td>\n",
       "      <td>0.07</td>\n",
       "      <td>1</td>\n",
       "      <td>0</td>\n",
       "      <td>32</td>\n",
       "      <td>25</td>\n",
       "      <td>Ithaca</td>\n",
       "    </tr>\n",
       "    <tr>\n",
       "      <th>2</th>\n",
       "      <td>1987</td>\n",
       "      <td>1</td>\n",
       "      <td>3</td>\n",
       "      <td>1.11</td>\n",
       "      <td>1</td>\n",
       "      <td>1</td>\n",
       "      <td>30</td>\n",
       "      <td>22</td>\n",
       "      <td>Ithaca</td>\n",
       "    </tr>\n",
       "    <tr>\n",
       "      <th>3</th>\n",
       "      <td>1987</td>\n",
       "      <td>1</td>\n",
       "      <td>4</td>\n",
       "      <td>0.00</td>\n",
       "      <td>0</td>\n",
       "      <td>1</td>\n",
       "      <td>29</td>\n",
       "      <td>-1</td>\n",
       "      <td>Ithaca</td>\n",
       "    </tr>\n",
       "    <tr>\n",
       "      <th>4</th>\n",
       "      <td>1987</td>\n",
       "      <td>1</td>\n",
       "      <td>5</td>\n",
       "      <td>0.00</td>\n",
       "      <td>0</td>\n",
       "      <td>0</td>\n",
       "      <td>25</td>\n",
       "      <td>4</td>\n",
       "      <td>Ithaca</td>\n",
       "    </tr>\n",
       "    <tr>\n",
       "      <th>5</th>\n",
       "      <td>1987</td>\n",
       "      <td>1</td>\n",
       "      <td>6</td>\n",
       "      <td>0.00</td>\n",
       "      <td>0</td>\n",
       "      <td>0</td>\n",
       "      <td>30</td>\n",
       "      <td>14</td>\n",
       "      <td>Ithaca</td>\n",
       "    </tr>\n",
       "    <tr>\n",
       "      <th>6</th>\n",
       "      <td>1987</td>\n",
       "      <td>1</td>\n",
       "      <td>7</td>\n",
       "      <td>0.00</td>\n",
       "      <td>0</td>\n",
       "      <td>0</td>\n",
       "      <td>37</td>\n",
       "      <td>21</td>\n",
       "      <td>Ithaca</td>\n",
       "    </tr>\n",
       "    <tr>\n",
       "      <th>7</th>\n",
       "      <td>1987</td>\n",
       "      <td>1</td>\n",
       "      <td>8</td>\n",
       "      <td>0.04</td>\n",
       "      <td>1</td>\n",
       "      <td>0</td>\n",
       "      <td>37</td>\n",
       "      <td>22</td>\n",
       "      <td>Ithaca</td>\n",
       "    </tr>\n",
       "    <tr>\n",
       "      <th>8</th>\n",
       "      <td>1987</td>\n",
       "      <td>1</td>\n",
       "      <td>9</td>\n",
       "      <td>0.02</td>\n",
       "      <td>1</td>\n",
       "      <td>1</td>\n",
       "      <td>29</td>\n",
       "      <td>23</td>\n",
       "      <td>Ithaca</td>\n",
       "    </tr>\n",
       "    <tr>\n",
       "      <th>9</th>\n",
       "      <td>1987</td>\n",
       "      <td>1</td>\n",
       "      <td>10</td>\n",
       "      <td>0.05</td>\n",
       "      <td>1</td>\n",
       "      <td>1</td>\n",
       "      <td>30</td>\n",
       "      <td>27</td>\n",
       "      <td>Ithaca</td>\n",
       "    </tr>\n",
       "    <tr>\n",
       "      <th>10</th>\n",
       "      <td>1987</td>\n",
       "      <td>1</td>\n",
       "      <td>11</td>\n",
       "      <td>0.34</td>\n",
       "      <td>1</td>\n",
       "      <td>1</td>\n",
       "      <td>36</td>\n",
       "      <td>29</td>\n",
       "      <td>Ithaca</td>\n",
       "    </tr>\n",
       "    <tr>\n",
       "      <th>11</th>\n",
       "      <td>1987</td>\n",
       "      <td>1</td>\n",
       "      <td>12</td>\n",
       "      <td>0.06</td>\n",
       "      <td>1</td>\n",
       "      <td>1</td>\n",
       "      <td>32</td>\n",
       "      <td>25</td>\n",
       "      <td>Ithaca</td>\n",
       "    </tr>\n",
       "    <tr>\n",
       "      <th>12</th>\n",
       "      <td>1987</td>\n",
       "      <td>1</td>\n",
       "      <td>13</td>\n",
       "      <td>0.18</td>\n",
       "      <td>1</td>\n",
       "      <td>1</td>\n",
       "      <td>33</td>\n",
       "      <td>29</td>\n",
       "      <td>Ithaca</td>\n",
       "    </tr>\n",
       "    <tr>\n",
       "      <th>13</th>\n",
       "      <td>1987</td>\n",
       "      <td>1</td>\n",
       "      <td>14</td>\n",
       "      <td>0.02</td>\n",
       "      <td>1</td>\n",
       "      <td>1</td>\n",
       "      <td>34</td>\n",
       "      <td>15</td>\n",
       "      <td>Ithaca</td>\n",
       "    </tr>\n",
       "    <tr>\n",
       "      <th>14</th>\n",
       "      <td>1987</td>\n",
       "      <td>1</td>\n",
       "      <td>15</td>\n",
       "      <td>0.02</td>\n",
       "      <td>1</td>\n",
       "      <td>1</td>\n",
       "      <td>53</td>\n",
       "      <td>29</td>\n",
       "      <td>Ithaca</td>\n",
       "    </tr>\n",
       "    <tr>\n",
       "      <th>15</th>\n",
       "      <td>1987</td>\n",
       "      <td>1</td>\n",
       "      <td>16</td>\n",
       "      <td>0.00</td>\n",
       "      <td>0</td>\n",
       "      <td>1</td>\n",
       "      <td>45</td>\n",
       "      <td>24</td>\n",
       "      <td>Ithaca</td>\n",
       "    </tr>\n",
       "    <tr>\n",
       "      <th>16</th>\n",
       "      <td>1987</td>\n",
       "      <td>1</td>\n",
       "      <td>17</td>\n",
       "      <td>0.00</td>\n",
       "      <td>0</td>\n",
       "      <td>0</td>\n",
       "      <td>25</td>\n",
       "      <td>0</td>\n",
       "      <td>Ithaca</td>\n",
       "    </tr>\n",
       "    <tr>\n",
       "      <th>17</th>\n",
       "      <td>1987</td>\n",
       "      <td>1</td>\n",
       "      <td>18</td>\n",
       "      <td>0.00</td>\n",
       "      <td>0</td>\n",
       "      <td>0</td>\n",
       "      <td>28</td>\n",
       "      <td>2</td>\n",
       "      <td>Ithaca</td>\n",
       "    </tr>\n",
       "    <tr>\n",
       "      <th>18</th>\n",
       "      <td>1987</td>\n",
       "      <td>1</td>\n",
       "      <td>19</td>\n",
       "      <td>0.00</td>\n",
       "      <td>0</td>\n",
       "      <td>0</td>\n",
       "      <td>32</td>\n",
       "      <td>26</td>\n",
       "      <td>Ithaca</td>\n",
       "    </tr>\n",
       "    <tr>\n",
       "      <th>19</th>\n",
       "      <td>1987</td>\n",
       "      <td>1</td>\n",
       "      <td>20</td>\n",
       "      <td>0.45</td>\n",
       "      <td>1</td>\n",
       "      <td>0</td>\n",
       "      <td>27</td>\n",
       "      <td>17</td>\n",
       "      <td>Ithaca</td>\n",
       "    </tr>\n",
       "    <tr>\n",
       "      <th>20</th>\n",
       "      <td>1987</td>\n",
       "      <td>1</td>\n",
       "      <td>21</td>\n",
       "      <td>0.00</td>\n",
       "      <td>0</td>\n",
       "      <td>1</td>\n",
       "      <td>26</td>\n",
       "      <td>19</td>\n",
       "      <td>Ithaca</td>\n",
       "    </tr>\n",
       "    <tr>\n",
       "      <th>21</th>\n",
       "      <td>1987</td>\n",
       "      <td>1</td>\n",
       "      <td>22</td>\n",
       "      <td>0.00</td>\n",
       "      <td>0</td>\n",
       "      <td>0</td>\n",
       "      <td>28</td>\n",
       "      <td>9</td>\n",
       "      <td>Ithaca</td>\n",
       "    </tr>\n",
       "    <tr>\n",
       "      <th>22</th>\n",
       "      <td>1987</td>\n",
       "      <td>1</td>\n",
       "      <td>23</td>\n",
       "      <td>0.70</td>\n",
       "      <td>1</td>\n",
       "      <td>0</td>\n",
       "      <td>24</td>\n",
       "      <td>20</td>\n",
       "      <td>Ithaca</td>\n",
       "    </tr>\n",
       "    <tr>\n",
       "      <th>23</th>\n",
       "      <td>1987</td>\n",
       "      <td>1</td>\n",
       "      <td>24</td>\n",
       "      <td>0.00</td>\n",
       "      <td>0</td>\n",
       "      <td>1</td>\n",
       "      <td>26</td>\n",
       "      <td>-6</td>\n",
       "      <td>Ithaca</td>\n",
       "    </tr>\n",
       "    <tr>\n",
       "      <th>24</th>\n",
       "      <td>1987</td>\n",
       "      <td>1</td>\n",
       "      <td>25</td>\n",
       "      <td>0.00</td>\n",
       "      <td>0</td>\n",
       "      <td>0</td>\n",
       "      <td>9</td>\n",
       "      <td>-13</td>\n",
       "      <td>Ithaca</td>\n",
       "    </tr>\n",
       "    <tr>\n",
       "      <th>25</th>\n",
       "      <td>1987</td>\n",
       "      <td>1</td>\n",
       "      <td>26</td>\n",
       "      <td>0.00</td>\n",
       "      <td>0</td>\n",
       "      <td>0</td>\n",
       "      <td>22</td>\n",
       "      <td>-13</td>\n",
       "      <td>Ithaca</td>\n",
       "    </tr>\n",
       "    <tr>\n",
       "      <th>26</th>\n",
       "      <td>1987</td>\n",
       "      <td>1</td>\n",
       "      <td>27</td>\n",
       "      <td>0.00</td>\n",
       "      <td>0</td>\n",
       "      <td>0</td>\n",
       "      <td>17</td>\n",
       "      <td>-11</td>\n",
       "      <td>Ithaca</td>\n",
       "    </tr>\n",
       "    <tr>\n",
       "      <th>27</th>\n",
       "      <td>1987</td>\n",
       "      <td>1</td>\n",
       "      <td>28</td>\n",
       "      <td>0.00</td>\n",
       "      <td>0</td>\n",
       "      <td>0</td>\n",
       "      <td>26</td>\n",
       "      <td>-4</td>\n",
       "      <td>Ithaca</td>\n",
       "    </tr>\n",
       "    <tr>\n",
       "      <th>28</th>\n",
       "      <td>1987</td>\n",
       "      <td>1</td>\n",
       "      <td>29</td>\n",
       "      <td>0.01</td>\n",
       "      <td>1</td>\n",
       "      <td>0</td>\n",
       "      <td>27</td>\n",
       "      <td>-4</td>\n",
       "      <td>Ithaca</td>\n",
       "    </tr>\n",
       "    <tr>\n",
       "      <th>29</th>\n",
       "      <td>1987</td>\n",
       "      <td>1</td>\n",
       "      <td>30</td>\n",
       "      <td>0.03</td>\n",
       "      <td>1</td>\n",
       "      <td>1</td>\n",
       "      <td>30</td>\n",
       "      <td>11</td>\n",
       "      <td>Ithaca</td>\n",
       "    </tr>\n",
       "    <tr>\n",
       "      <th>30</th>\n",
       "      <td>1987</td>\n",
       "      <td>1</td>\n",
       "      <td>31</td>\n",
       "      <td>0.05</td>\n",
       "      <td>1</td>\n",
       "      <td>1</td>\n",
       "      <td>34</td>\n",
       "      <td>23</td>\n",
       "      <td>Ithaca</td>\n",
       "    </tr>\n",
       "  </tbody>\n",
       "</table>\n",
       "</div>"
      ],
      "text/plain": [
       "    Year  Month  Date  Precip_inch  Rain  Rain_Yesterday  MaxTemp_Far  \\\n",
       "1   1987      1     2         0.07     1               0           32   \n",
       "2   1987      1     3         1.11     1               1           30   \n",
       "3   1987      1     4         0.00     0               1           29   \n",
       "4   1987      1     5         0.00     0               0           25   \n",
       "5   1987      1     6         0.00     0               0           30   \n",
       "6   1987      1     7         0.00     0               0           37   \n",
       "7   1987      1     8         0.04     1               0           37   \n",
       "8   1987      1     9         0.02     1               1           29   \n",
       "9   1987      1    10         0.05     1               1           30   \n",
       "10  1987      1    11         0.34     1               1           36   \n",
       "11  1987      1    12         0.06     1               1           32   \n",
       "12  1987      1    13         0.18     1               1           33   \n",
       "13  1987      1    14         0.02     1               1           34   \n",
       "14  1987      1    15         0.02     1               1           53   \n",
       "15  1987      1    16         0.00     0               1           45   \n",
       "16  1987      1    17         0.00     0               0           25   \n",
       "17  1987      1    18         0.00     0               0           28   \n",
       "18  1987      1    19         0.00     0               0           32   \n",
       "19  1987      1    20         0.45     1               0           27   \n",
       "20  1987      1    21         0.00     0               1           26   \n",
       "21  1987      1    22         0.00     0               0           28   \n",
       "22  1987      1    23         0.70     1               0           24   \n",
       "23  1987      1    24         0.00     0               1           26   \n",
       "24  1987      1    25         0.00     0               0            9   \n",
       "25  1987      1    26         0.00     0               0           22   \n",
       "26  1987      1    27         0.00     0               0           17   \n",
       "27  1987      1    28         0.00     0               0           26   \n",
       "28  1987      1    29         0.01     1               0           27   \n",
       "29  1987      1    30         0.03     1               1           30   \n",
       "30  1987      1    31         0.05     1               1           34   \n",
       "\n",
       "    MinTemp_Far Location  \n",
       "1            25   Ithaca  \n",
       "2            22   Ithaca  \n",
       "3            -1   Ithaca  \n",
       "4             4   Ithaca  \n",
       "5            14   Ithaca  \n",
       "6            21   Ithaca  \n",
       "7            22   Ithaca  \n",
       "8            23   Ithaca  \n",
       "9            27   Ithaca  \n",
       "10           29   Ithaca  \n",
       "11           25   Ithaca  \n",
       "12           29   Ithaca  \n",
       "13           15   Ithaca  \n",
       "14           29   Ithaca  \n",
       "15           24   Ithaca  \n",
       "16            0   Ithaca  \n",
       "17            2   Ithaca  \n",
       "18           26   Ithaca  \n",
       "19           17   Ithaca  \n",
       "20           19   Ithaca  \n",
       "21            9   Ithaca  \n",
       "22           20   Ithaca  \n",
       "23           -6   Ithaca  \n",
       "24          -13   Ithaca  \n",
       "25          -13   Ithaca  \n",
       "26          -11   Ithaca  \n",
       "27           -4   Ithaca  \n",
       "28           -4   Ithaca  \n",
       "29           11   Ithaca  \n",
       "30           23   Ithaca  "
      ]
     },
     "execution_count": 4,
     "metadata": {},
     "output_type": "execute_result"
    }
   ],
   "source": [
    "idf2"
   ]
  },
  {
   "cell_type": "markdown",
   "metadata": {
    "slideshow": {
     "slide_type": "slide"
    }
   },
   "source": [
    "## Quantifying the probability of a state transition\n",
    "\n",
    "$p_{00}$ is the probability that being in state zero (no rain) at the previous step (day) that it will stay in that state (no rain) for the next step (day).\n",
    "\n",
    "$$p_{00} = Pr\\{X_{t+1} = 0 | X_t = 0\\} \\approx \\frac{n_{00}}{n_{00} + n_{01}}$$\n",
    "\n",
    "likewise\n",
    "\n",
    "$$p_{01} = Pr\\{X_{t+1} = 1 | X_t = 0\\} \\approx \\frac{n_{01}}{n_{00} + n_{01}} = 1 - p_{00}$$\n",
    "\n",
    "etc"
   ]
  },
  {
   "cell_type": "code",
   "execution_count": 11,
   "metadata": {
    "slideshow": {
     "slide_type": "slide"
    }
   },
   "outputs": [
    {
     "name": "stdout",
     "output_type": "stream",
     "text": [
      "0.6875 0.7142857142857143\n"
     ]
    }
   ],
   "source": [
    "# Find the number of transitions between each state\n",
    "n00 = idf2[(idf2.Rain_Yesterday==0) & (idf2.Rain==0)].shape[0]\n",
    "n01 = idf2[(idf2.Rain_Yesterday==0) & (idf2.Rain==1)].shape[0]\n",
    "n10 = idf2[(idf2.Rain_Yesterday==1) & (idf2.Rain==0)].shape[0]\n",
    "n11 = idf2[(idf2.Rain_Yesterday==1) & (idf2.Rain==1)].shape[0]\n",
    "\n",
    "p00 = n00/(n00+n01)\n",
    "p11 = n11/(n10+n11)\n",
    "\n",
    "print(p00,p11)"
   ]
  },
  {
   "cell_type": "code",
   "execution_count": 13,
   "metadata": {
    "slideshow": {
     "slide_type": "skip"
    }
   },
   "outputs": [],
   "source": [
    "\n",
    "\n",
    "n0d = n00+n01\n",
    "n1d = n10+n11\n",
    "nd0 = n00+n10\n",
    "nd1 = n01+n11\n",
    "\n",
    "n = n0d+n1d\n",
    "\n",
    "p01 = n01/n0d\n",
    "p10 = n10/n1d\n",
    "\n",
    "e00 = n0d*nd0/n\n",
    "e01 = n0d*nd1/n\n",
    "e10 = n1d*nd0/n\n",
    "e11 = n1d*nd1/n"
   ]
  },
  {
   "cell_type": "code",
   "execution_count": 14,
   "metadata": {
    "slideshow": {
     "slide_type": "slide"
    }
   },
   "outputs": [],
   "source": [
    "#Define markov chain model to generate rainfall timeseries\n",
    "#Input the rain data and the length desired\n",
    "def makemarkov(idf2,n): \n",
    "    #Subset the rain data into cases where it didn't and did rain the day before\n",
    "    after_norain = idf2.Rain[(idf2.Rain_Yesterday==0)].values \n",
    "    after_rain = idf2.Rain[(idf2.Rain_Yesterday==1)].values\n",
    "    # Pre-allocate the variable\n",
    "    markov = np.zeros([n,])\n",
    "    # Choose the first value randomly from the whole month\n",
    "    markov[0]=np.random.choice(idf2.Rain.values)\n",
    "    for i in np.arange(0,n-1):\n",
    "        #When it didnt rain previously, randomly choose from no rain cases\n",
    "        if markov[i] == 0:\n",
    "            markov[i+1] = np.random.choice(after_norain)\n",
    "        #Else choose from rain cases\n",
    "        else:\n",
    "            markov[i+1] = np.random.choice(after_rain)\n",
    "    return markov"
   ]
  },
  {
   "cell_type": "code",
   "execution_count": 50,
   "metadata": {
    "slideshow": {
     "slide_type": "slide"
    }
   },
   "outputs": [
    {
     "data": {
      "text/plain": [
       "<matplotlib.legend.Legend at 0x7f86213312e0>"
      ]
     },
     "execution_count": 50,
     "metadata": {},
     "output_type": "execute_result"
    },
    {
     "data": {
      "image/png": "[encoded data removed]",
      "text/plain": [
       "<Figure size 432x288 with 1 Axes>"
      ]
     },
     "metadata": {
      "needs_background": "light"
     },
     "output_type": "display_data"
    }
   ],
   "source": [
    "# Run and display the synthetic timeseries\n",
    "markov = makemarkov(idf2,n)   \n",
    "plt.plot(markov,label='Synthetic')\n",
    "plt.plot(idf2.Rain,label='Ithaca Data')\n",
    "plt.xlabel('Day');plt.ylabel('1=Rain, 0=None'); plt.legend()"
   ]
  },
  {
   "cell_type": "code",
   "execution_count": 55,
   "metadata": {
    "slideshow": {
     "slide_type": "skip"
    }
   },
   "outputs": [],
   "source": [
    "#Define a model to generate serieally independent timeseries\n",
    "#Input the rain data and the length desired\n",
    "#Input the rain data and the length desired\n",
    "def makeindep(idf2,n):\n",
    "    indep = np.zeros([n,1])\n",
    "    indep[0]=np.random.choice(idf2.Rain.values)\n",
    "    for i in np.arange(0,n-1):\n",
    "        indep[i+1] = np.random.choice(idf2.Rain.values)\n",
    "    return indep"
   ]
  },
  {
   "cell_type": "code",
   "execution_count": 56,
   "metadata": {
    "slideshow": {
     "slide_type": "skip"
    }
   },
   "outputs": [
    {
     "data": {
      "text/plain": [
       "<matplotlib.legend.Legend at 0x7f85e0bc2f70>"
      ]
     },
     "execution_count": 56,
     "metadata": {},
     "output_type": "execute_result"
    },
    {
     "data": {
      "image/png": "[encoded data removed]",
      "text/plain": [
       "<Figure size 432x288 with 1 Axes>"
      ]
     },
     "metadata": {
      "needs_background": "light"
     },
     "output_type": "display_data"
    }
   ],
   "source": [
    "indep = makeindep(idf2,n)\n",
    "   \n",
    "plt.plot(indep,label='Serially Independent')\n",
    "plt.plot(idf2.Rain,label='Ithaca Data')\n",
    "plt.xlabel('Day');plt.ylabel('1=Rain, 0=None'); plt.legend()\n"
   ]
  },
  {
   "cell_type": "markdown",
   "metadata": {
    "slideshow": {
     "slide_type": "slide"
    }
   },
   "source": [
    "## Test Statistic\n",
    "\n",
    "$$\\chi^2 = \\sum_i \\sum_j \\frac{(n_{ij}-e_{ij})^2}{e_{ij}}$$\n",
    "where\n",
    "$$e_{ij} = \\frac{n_{i\\cdot}-n_{\\cdot j}}{n}.$$\n",
    "\n",
    "![MarkovChain.png](https://github.com/janzika/MATH5271/blob/main/Lecture%203/Chi2Test.png?raw=true)"
   ]
  },
  {
   "cell_type": "code",
   "execution_count": 57,
   "metadata": {
    "slideshow": {
     "slide_type": "skip"
    }
   },
   "outputs": [],
   "source": [
    "# Find the number of transitions between each state\n",
    "def Chisq(yesterday,today):\n",
    "    n00 = yesterday[(yesterday==0) & (today==0)].shape[0]\n",
    "    n01 = yesterday[(yesterday==0) & (today==1)].shape[0]\n",
    "    n10 = yesterday[(yesterday==1) & (today==0)].shape[0]\n",
    "    n11 = yesterday[(yesterday==1) & (today==1)].shape[0]\n",
    "    \n",
    "    n0d = n00+n01\n",
    "    n1d = n10+n11\n",
    "    nd0 = n00+n10\n",
    "    nd1 = n01+n11\n",
    "    \n",
    "    n = n0d+n1d\n",
    "    \n",
    "    p00 = n00/n0d\n",
    "    p01 = n01/n0d\n",
    "    p10 = n10/n1d\n",
    "    p11 = n11/n1d\n",
    "    \n",
    "    e00 = n0d*nd0/n\n",
    "    e01 = n0d*nd1/n\n",
    "    e10 = n1d*nd0/n\n",
    "    e11 = n1d*nd1/n\n",
    "\n",
    "    Xi2 = (n00-e00)**2/e00 + (n10-e10)**2/e10 + \\\n",
    "    (n01-e01)**2/e01 + (n11-e11)**2/e11\n",
    "    return Xi2\n",
    "\n",
    "Chisq_Ith = Chisq(idf2.Rain_Yesterday,idf2.Rain)"
   ]
  },
  {
   "cell_type": "code",
   "execution_count": 112,
   "metadata": {
    "slideshow": {
     "slide_type": "slide"
    }
   },
   "outputs": [
    {
     "data": {
      "text/plain": [
       "<matplotlib.legend.Legend at 0x7f86105bc130>"
      ]
     },
     "execution_count": 112,
     "metadata": {},
     "output_type": "execute_result"
    },
    {
     "data": {
      "image/png": "[encoded data removed]",
      "text/plain": [
       "<Figure size 432x288 with 1 Axes>"
      ]
     },
     "metadata": {
      "needs_background": "light"
     },
     "output_type": "display_data"
    }
   ],
   "source": [
    "indep = makeindep(idf2,n)\n",
    "Chisq_indep = Chisq(indep[:-1],indep[1:])\n",
    "    \n",
    "plt.plot(indep,label='Serially Independent, $\\chi^2$='+str(np.round(Chisq_indep,2)))\n",
    "plt.plot(idf2.Rain,label='Ithaca Data, $\\chi^2$='+str(np.round(Chisq_Ith,2)))\n",
    "plt.xlabel('Day');plt.ylabel('1=Rain, 0=None'); plt.legend()"
   ]
  },
  {
   "cell_type": "markdown",
   "metadata": {
    "slideshow": {
     "slide_type": "slide"
    }
   },
   "source": [
    "## Multiple-state Markov Chains (3 states or more)\n",
    "\n",
    "![MarkovChain.png](https://github.com/janzika/MATH5271/blob/main/Lecture%203/Multi-markov.png?raw=true)\n",
    "\n",
    "### What natural processes could be described?"
   ]
  },
  {
   "cell_type": "markdown",
   "metadata": {
    "slideshow": {
     "slide_type": "slide"
    }
   },
   "source": [
    "# Autoregression\n",
    "\n",
    "Many processes of interest are described by continuous variables (temperature, concentration, intensity etc.). \n",
    "\n",
    "Autoregressive models combine the concept of linear regression models with time series. Effectively we can correlate the state at a previous time with a future time. Consider the minimum temperature at Canandaigua. Does it look random?\n",
    "\n",
    "\n",
    "\n"
   ]
  },
  {
   "cell_type": "code",
   "execution_count": 634,
   "metadata": {
    "slideshow": {
     "slide_type": "fragment"
    }
   },
   "outputs": [
    {
     "data": {
      "text/plain": [
       "<AxesSubplot:xlabel='Date'>"
      ]
     },
     "execution_count": 634,
     "metadata": {},
     "output_type": "execute_result"
    },
    {
     "data": {
      "image/png": "[encoded data removed]",
      "text/plain": [
       "<Figure size 432x288 with 1 Axes>"
      ]
     },
     "metadata": {
      "needs_background": "light"
     },
     "output_type": "display_data"
    }
   ],
   "source": [
    "cdf.plot(\"Date\",\"MinTemp_Far\")"
   ]
  },
  {
   "cell_type": "code",
   "execution_count": 141,
   "metadata": {
    "slideshow": {
     "slide_type": "slide"
    }
   },
   "outputs": [
    {
     "data": {
      "text/plain": [
       "<matplotlib.legend.Legend at 0x7f8621e03cd0>"
      ]
     },
     "execution_count": 141,
     "metadata": {},
     "output_type": "execute_result"
    },
    {
     "data": {
      "image/png": "[encoded data removed]",
      "text/plain": [
       "<Figure size 432x288 with 1 Axes>"
      ]
     },
     "metadata": {
      "needs_background": "light"
     },
     "output_type": "display_data"
    }
   ],
   "source": [
    "# Calculate statistics of Canandaigua timeseries\n",
    "xbar = cdf.MinTemp_Far.values.mean() #mean Temp\n",
    "sigx = cdf.MinTemp_Far.std()         #std of Temp\n",
    "# Generate random timeseries\n",
    "RND = np.zeros([n,1])\n",
    "for i in np.arange(0,n):\n",
    "    RND[i] = np.random.normal(xbar,sigx) #assume normal distribution\n",
    "# Compare random and original timeseries\n",
    "plt.plot(cdf.Date,cdf.MinTemp_Far,label='Canandaigua')       \n",
    "plt.plot(RND,label='Serially independent model')\n",
    "plt.xlabel('Day');plt.ylabel('Minimum Temp. ($^o$F)'); \n",
    "plt.legend()"
   ]
  },
  {
   "cell_type": "code",
   "execution_count": 115,
   "metadata": {
    "slideshow": {
     "slide_type": "skip"
    }
   },
   "outputs": [],
   "source": [
    "# Calculate b and a\n",
    "x0 = cdf.MinTemp_Far.values[:-1]\n",
    "x1 = cdf.MinTemp_Far.values[1:]\n",
    "n = x0.shape[0]\n",
    "phi = (n*np.sum(x0*x1)-np.sum(x0)*np.sum(x1))\\\n",
    "/(n*np.sum(x0**2)-((np.sum(x0))**2))\n",
    "mu = x1.mean()\n",
    "#a = x0.mean() - phi*x0.mean()\n",
    "# Determine the least squares guess at 'y' (the Canandaigua temperature)\n",
    "x1_lr = phi*(x0-mu)+mu;"
   ]
  },
  {
   "cell_type": "code",
   "execution_count": 116,
   "metadata": {
    "slideshow": {
     "slide_type": "slide"
    }
   },
   "outputs": [
    {
     "data": {
      "text/plain": [
       "<matplotlib.legend.Legend at 0x7f8631c40340>"
      ]
     },
     "execution_count": 116,
     "metadata": {},
     "output_type": "execute_result"
    },
    {
     "data": {
      "image/png": "[encoded data removed]",
      "text/plain": [
       "<Figure size 432x288 with 1 Axes>"
      ]
     },
     "metadata": {
      "needs_background": "light"
     },
     "output_type": "display_data"
    }
   ],
   "source": [
    "x0 = cdf.MinTemp_Far.values[:-1]; x1 = cdf.MinTemp_Far.values[1:]\n",
    "plt.scatter(x0,x1,label='Canandaigua'); \n",
    "plt.plot(x0,x1_lr,'k',label='Linear fit')\n",
    "plt.xlabel('Temperature Today ($^o$F)')\n",
    "plt.ylabel('Temperature Tomorrow ($^o$F)')\n",
    "plt.legend()"
   ]
  },
  {
   "cell_type": "markdown",
   "metadata": {
    "slideshow": {
     "slide_type": "slide"
    }
   },
   "source": [
    "# Cross-correlation and Autocorrelation\n",
    "\n",
    "Recall from week 2 that the slope of the linear regression fit for $y$ based on $x$ was\n",
    "\n",
    "$$ b = \\frac{\\sum_{i=1}^n \\left[ (x_i - \\overline{x})((y_i - \\overline{y})\\right]}{\\sum_{i=1}^n (x_i - \\overline{x})^2}. $$\n",
    "\n",
    "This is the correlation coefficient. As well as correlating two different variables (cross-correlation) we can correlate a variable with itself at different times (auto-correlation). I.e. for time lag 1 we have \n",
    "\n",
    "$$ r_1 = \\frac{\\sum^{n-1}_{i=1}[(x_i - \\overline{x}_-)(x_{i+1} - \\overline{x}_+)]}{[\\sum^{n-1}_{i=1}(x_i - \\overline{x}_-)^2]^{1/2}[\\sum^{n}_{i=2}(x_{i} - \\overline{x}_+)^2]^{1/2}} $$\n",
    "\n",
    "where $\\overline{x}_-$ and $\\overline{x}_+$ are averages over the first and last $n-1$ values respectively. \n"
   ]
  },
  {
   "cell_type": "markdown",
   "metadata": {
    "slideshow": {
     "slide_type": "slide"
    }
   },
   "source": [
    "# Autocovariance function\n",
    "\n",
    "We can generalise to lag-k such that\n",
    "\n",
    "$$ r_k = \\frac{\\sum^{n-k}_{i=1}[(x_i - \\overline{x}_-)(x_{i+k} - \\overline{x}_+)]}{[\\sum^{n-k}_{i=1}(x_i - \\overline{x}_-)^2]^{1/2}[\\sum^{n}_{i=k+1}(x_{i} - \\overline{x}_+)^2]^{1/2}}. $$\n",
    "\n",
    "This is also known as the autocovariance function. "
   ]
  },
  {
   "cell_type": "code",
   "execution_count": 117,
   "metadata": {
    "slideshow": {
     "slide_type": "skip"
    }
   },
   "outputs": [],
   "source": [
    "x = cdf.MinTemp_Far.values\n",
    "n = x.shape[0]; \n",
    "M=7\n",
    "r = np.ones([M+1,1])\n",
    "for k in np.arange(1,M+1):\n",
    "    xmns = x[:n-k].mean();xpls = x[-(n-k):].mean()\n",
    "    r[k] = np.sum((x[:n-k]-xmns)*(x[-(n-k):]-xpls))/\\\n",
    "    (np.sqrt(np.sum((x[:n-k]-xmns)**2))*np.sqrt(np.sum((x[-(n-k):]-xpls)**2)))"
   ]
  },
  {
   "cell_type": "code",
   "execution_count": 118,
   "metadata": {
    "slideshow": {
     "slide_type": "slide"
    }
   },
   "outputs": [
    {
     "data": {
      "image/png": "[encoded data removed]",
      "text/plain": [
       "<Figure size 432x288 with 1 Axes>"
      ]
     },
     "metadata": {
      "needs_background": "light"
     },
     "output_type": "display_data"
    }
   ],
   "source": [
    "plt.plot(r,label='Canandaigua Min Temp')\n",
    "plt.xlabel('Lag, k (days)')\n",
    "plt.ylabel('Autocorrelation ($r_k$)')\n",
    "plt.legend()\n",
    "plt.grid()"
   ]
  },
  {
   "cell_type": "markdown",
   "metadata": {
    "slideshow": {
     "slide_type": "slide"
    }
   },
   "source": [
    "# AR(1) model\n",
    "\n",
    "The AR(1) model is essentially the same as the 1st order linear regression model but is typically framed as follows\n",
    "\n",
    "$$x_{t+1} - \\overline{x} = \\phi(x_t-\\overline{x}) + \\epsilon_{t+1}$$\n",
    "\n",
    "Where $\\epsilon$ is assumed to be a normally distributed with $\\sigma^2_{\\epsilon}=(1-\\phi^2)\\sigma^2_x$.\n",
    "\n",
    "In the AR(1) case \n",
    "$$\\phi = r_1.$$\n",
    "It is important to note that this doesn't hold at higher orders. \n",
    "\n",
    "What if $|r_1|>1$?\n"
   ]
  },
  {
   "cell_type": "code",
   "execution_count": 152,
   "metadata": {
    "slideshow": {
     "slide_type": "slide"
    }
   },
   "outputs": [
    {
     "data": {
      "text/plain": [
       "<matplotlib.legend.Legend at 0x7f86531f32b0>"
      ]
     },
     "execution_count": 152,
     "metadata": {},
     "output_type": "execute_result"
    },
    {
     "data": {
      "image/png": "[encoded data removed]",
      "text/plain": [
       "<Figure size 432x288 with 1 Axes>"
      ]
     },
     "metadata": {
      "needs_background": "light"
     },
     "output_type": "display_data"
    }
   ],
   "source": [
    "# Generate AR(1) timeseries\n",
    "# Calculate parameters\n",
    "phi=r[1]; sige = np.sqrt((1-phi**2)*sigx**2)\n",
    "#Pre-allocate\n",
    "AR1 = np.zeros([n,])\n",
    "#Set 1st value as Canandaigua\n",
    "AR1[0]=cdf.MinTemp_Far.values[0]\n",
    "for i in np.arange(0,n-1):\n",
    "    AR1[i+1] = phi*(AR1[i]-xbar)+np.random.normal(0,sige)+xbar\n",
    "# Compare AR1 and original timeseries\n",
    "plt.plot(cdf.Date,cdf.MinTemp_Far,label='Canandaigua')       \n",
    "plt.plot(cdf.Date,AR1,label='AR1 model')\n",
    "plt.xlabel('Day');plt.ylabel('Minimum Temp. ($^o$F)'); plt.legend()"
   ]
  },
  {
   "cell_type": "markdown",
   "metadata": {
    "slideshow": {
     "slide_type": "slide"
    }
   },
   "source": [
    "## AR(2) model\n",
    "\n",
    "An AR(2) model is the same as second order multiple linear regression\n",
    "\n",
    "$$x_{t+1} - \\overline{x} = \\phi_1(x_t-\\overline{x})+\\phi_2(x_{t-1}-\\overline{x}) + \\epsilon_{t+1}.$$\n",
    "\n",
    "Again $\\epsilon$ is assumed to be a normally distributed and should be smaller.\n",
    "\n",
    "In the AR(2) (and higher order) case(s) \n",
    "$$\\phi_1 \\neq r_1.$$\n",
    "\n",
    "We must solve the simultaneous equations:\n",
    "$$r_1 = \\hat{\\phi}_1 +\\hat{\\phi}_2 r_1,\\\\\n",
    "r_2 = \\hat{\\phi}_1r_1 +\\hat{\\phi}_2.$$\n",
    "\n"
   ]
  },
  {
   "cell_type": "code",
   "execution_count": 176,
   "metadata": {
    "slideshow": {
     "slide_type": "slide"
    }
   },
   "outputs": [
    {
     "data": {
      "text/plain": [
       "<matplotlib.legend.Legend at 0x7f8641789a30>"
      ]
     },
     "execution_count": 176,
     "metadata": {},
     "output_type": "execute_result"
    },
    {
     "data": {
      "image/png": "[encoded data removed]",
      "text/plain": [
       "<Figure size 432x288 with 1 Axes>"
      ]
     },
     "metadata": {
      "needs_background": "light"
     },
     "output_type": "display_data"
    }
   ],
   "source": [
    "# Generate AR(2) timeseries\n",
    "# Calculate parameters\n",
    "phi1=r[1]*(1-r[1])/(1-r[1]**2);\n",
    "phi2=(r[2]-r[1]**2)/(1-r[1]**2);\n",
    "sige = np.sqrt((1-phi2**2)*((n-1)/(n-2))*(1-r[1])*sigx**2)\n",
    "#Pre-allocate\n",
    "AR2 = np.zeros([n,])\n",
    "#Set 1st and 2nd value as Canandaigua\n",
    "AR2[0]=cdf.MinTemp_Far.values[0]\n",
    "AR2[1]=cdf.MinTemp_Far.values[1]\n",
    "for i in np.arange(1,n-1):\n",
    "    AR2[i+1] = phi1*(AR2[i]-xbar)+phi2*(AR2[i-1]-xbar)+np.random.normal(0,sige)+xbar\n",
    "# Compare AR1 and original timeseries\n",
    "plt.plot(cdf.Date,cdf.MinTemp_Far,label='Canandaigua')       \n",
    "plt.plot(cdf.Date,AR2,label='AR2 model')\n",
    "plt.xlabel('Day');plt.ylabel('Minimum Temp. ($^o$F)'); plt.legend()"
   ]
  },
  {
   "cell_type": "markdown",
   "metadata": {
    "slideshow": {
     "slide_type": "slide"
    }
   },
   "source": [
    "# Higher order autoregressive models\n",
    "\n",
    "Again AR(k) models are effectively multiple linear regression\n",
    "\n",
    "$$x_{t+1} - \\overline{x} = \\phi_1(x_t-\\overline{x})+\\phi_2(x_{t-1}-\\overline{x}) +\\phi_3(x_{t-2}-\\overline{x})+...+ \\epsilon_{t+1}.$$\n",
    "\n",
    "The coefficients ($\\phi_k$) can either be determined by least squares or by solving what are called the $Yule-Walker$ equations:\n",
    "\n",
    "$$r_1 = \\hat{\\phi}_1 +\\hat{\\phi}_2 r_1 + .. + \\hat{\\phi}_K r_{K-1};\\\\\n",
    "r_2 = \\hat{\\phi}_1r_1 +\\hat{\\phi}_2 + .. + \\hat{\\phi}_K r_{K-2};\\\\\n",
    "r_3 = \\hat{\\phi}_1r_2 +\\hat{\\phi}_2 r_1 + .. + \\hat{\\phi}_K r_{K-3};\\\\\n",
    "...\\\\\n",
    "r_K = \\hat{\\phi}_1r_{K-1} +\\hat{\\phi}_2r_{K-2} + .. + \\hat{\\phi}_K.$$\n",
    "\n",
    "These can be solved using linear algebra as a system where\n",
    "\n",
    "$${\\bf r} = A\\, [\\phi_1\\,\\phi_2\\,...\\,\\phi_K]^T $$\n",
    "\n",
    "\n",
    "\n",
    "\n",
    "\n"
   ]
  },
  {
   "cell_type": "code",
   "execution_count": 134,
   "metadata": {
    "slideshow": {
     "slide_type": "skip"
    }
   },
   "outputs": [],
   "source": [
    "K=6\n",
    "A = np.ones([K,K])\n",
    "for i in np.arange(0,K):\n",
    "    A[i:,i] = r[:K-i,0] #np.arange(0,K-i)#\n",
    "    A[np.arange(i,-1,-1),i]=r[0:i+1,0]#np.arange(0,i+1)#\n",
    "    \n",
    "phi = np.linalg.solve(A.transpose(),r[1:K+1])"
   ]
  },
  {
   "cell_type": "markdown",
   "metadata": {
    "slideshow": {
     "slide_type": "slide"
    }
   },
   "source": [
    "# How to know how many lags to include?\n",
    "\n",
    "When chossing the best model it is common to trade off model complexity with model accuracy. Why use a complicated model when a simpler model does just as well (e.g. Occam's Razor). \n",
    "\n",
    "To information criteria balance these are these desires: Baysian Information Criterion (BIC) and Akaike Information Criterion (AIC). In the case AR(m) models we have\n",
    "\n",
    "$$ BIC(m) = n \\ln[\\frac{n}{n-m-1}s^2_{\\epsilon}(m)] + (m+1)\\ln(n) $$\n",
    "\n",
    "and\n",
    "\n",
    "$$ AIC(m) = n \\ln[\\frac{n}{n-m-1}s^2_{\\epsilon}(m)] + 2(m+1) $$"
   ]
  },
  {
   "cell_type": "markdown",
   "metadata": {
    "slideshow": {
     "slide_type": "slide"
    }
   },
   "source": [
    "![BICvsAIC.png](https://github.com/janzika/MATH5271/raw/main/Lecture%203/BICvsAIC.png?raw=true)"
   ]
  },
  {
   "cell_type": "markdown",
   "metadata": {
    "id": "UcaqAkrbc7B2",
    "slideshow": {
     "slide_type": "slide"
    }
   },
   "source": [
    "## Summary\n",
    "\n",
    "We have discussed:\n",
    "\n",
    "*   Simple Markov Chain based models for two states and higher;\n",
    "*   Autoregressive models and their link to linear regression;\n",
    "* How to assess models against a nul hypothesis and tools for choosing model complexity.\n"
   ]
  }
 ],
 "metadata": {
  "celltoolbar": "Slideshow",
  "colab": {
   "collapsed_sections": [
    "UcaqAkrbc7B2"
   ],
   "name": "MATH5271 Lab 5 Statistical Forecasting.ipynb",
   "provenance": []
  },
  "kernelspec": {
   "display_name": "Python 3 (ipykernel)",
   "language": "python",
   "name": "python3"
  },
  "language_info": {
   "codemirror_mode": {
    "name": "ipython",
    "version": 3
   },
   "file_extension": ".py",
   "mimetype": "text/x-python",
   "name": "python",
   "nbconvert_exporter": "python",
   "pygments_lexer": "ipython3",
   "version": "3.9.7"
  }
 },
 "nbformat": 4,
 "nbformat_minor": 1
}
