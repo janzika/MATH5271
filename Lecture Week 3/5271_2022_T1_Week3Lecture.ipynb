{
 "cells": [
  {
   "cell_type": "markdown",
   "metadata": {
    "id": "pumJKWaN_KQp",
    "slideshow": {
     "slide_type": "slide"
    }
   },
   "source": [
    "# MATH5271 Environmental Data Science and Statistics\n",
    "\n",
    "\n",
    "\n",
    "## Week 3: Time Series I - Time domain\n",
    "\n"
   ]
  },
  {
   "cell_type": "markdown",
   "metadata": {
    "slideshow": {
     "slide_type": "slide"
    }
   },
   "source": [
    "### Welcome to Week 3 of MATH5271. This session is the first of two on time series analysis. By the end of this session you should understand:\n",
    "\n",
    "- Utility of both time domain and frequency domain methods;\n",
    "- How to model discrete data using Multi-state Markov Chain models;\n",
    "- How to model continuous data using auto-regression models"
   ]
  },
  {
   "cell_type": "markdown",
   "metadata": {
    "slideshow": {
     "slide_type": "slide"
    }
   },
   "source": [
    "## Terminology\n",
    "\n",
    "What do the following terms mean?\n",
    "\n",
    "- Steady\n",
    "- Stationairy\n",
    "- Cyclical\n",
    "- Ergodic*"
   ]
  },
  {
   "cell_type": "markdown",
   "metadata": {
    "slideshow": {
     "slide_type": "slide"
    }
   },
   "source": [
    "## In terms of time series terminology, how would you describe the following processes:\n",
    "\n",
    "- El Nino Southern Oscilation measured over a decade;\n",
    "- Rain drops falling on your roof during a constant shower;\n",
    "- A large Hymalayan Glacier measured annually over 10 years;\n",
    "- Sea ice coverage in the Arctic Ocean."
   ]
  },
  {
   "cell_type": "markdown",
   "metadata": {
    "slideshow": {
     "slide_type": "slide"
    }
   },
   "source": [
    "## Time Series Models\n",
    "\n",
    "Unlike in Statistical Forecasting where we had either a proxy (e.g. nearby temperature) or a process based model (e.g. Numerical Weather Prediction) with which to make a model. In time series analysis we aim to understand, and potentially predict, the behaviour of a single time series. There are two approaches we will discuss:\n",
    "\n",
    "- Time domain analysis;\n",
    "- Frequency domain or Harmonic analysis.\n",
    "\n",
    "\n"
   ]
  },
  {
   "cell_type": "markdown",
   "metadata": {
    "slideshow": {
     "slide_type": "slide"
    }
   },
   "source": [
    "## Time Domain\n",
    "\n",
    "Future State = f(previous state, earlier state, even earlier state...)\n",
    "\n",
    "## Frequency Domain\n",
    "\n",
    "Future State = Stage in cycle 1 + Stage in cycle 2 + ... "
   ]
  },
  {
   "cell_type": "markdown",
   "metadata": {
    "slideshow": {
     "slide_type": "skip"
    }
   },
   "source": [
    "## Setup and Load Data\n",
    "\n",
    "Before we get started we need to ensure we have the appropriate 'libraries' are installed. The .csv files we upload will be uploaded into a 'pandas' data frame. We will use the 'numpy' (numerical python) package to do some basic maths with the data and Matplotlib's 'pyplot' package to make some pretty graphs. "
   ]
  },
  {
   "cell_type": "code",
   "execution_count": 1,
   "metadata": {
    "slideshow": {
     "slide_type": "skip"
    }
   },
   "outputs": [],
   "source": [
    "# import libraries\n",
    "import pandas as pd\n",
    "\n",
    "# Numerics\n",
    "import numpy as np\n",
    "\n",
    "# Plotting\n",
    "import matplotlib.pyplot as plt\n",
    "\n",
    "# plot figures in Colaboratory notebook\n",
    "%matplotlib inline\n",
    "\n",
    "# Define the URL where the data set is stored\n",
    "TableA1_url = 'https://raw.githubusercontent.com/janzika/MATH5271/main/Wilks_TableA1.csv' \n",
    "\n",
    "# Import the data set as a Pandas Dataframe using the 'read_csv' function\n",
    "df1 = pd.read_csv(TableA1_url)\n",
    "\n",
    "# Subset just the Ithaca and Canandaigua data\n",
    "idf = df1[df1['Location'].isin(['Ithaca'])]\n",
    "cdf = df1[df1['Location'].isin(['Canandaigua'])]\n",
    "\n",
    "# Define a new column with logical 0 for no rain and 1 for rain\n",
    "idf.insert(4,\"Rain\",[1 if x > 0 else 0 for x in idf.Precip_inch])\n",
    "\n",
    "#Copy the data frame from the 2nd of January and add a 'rained yesterday' columnx\n",
    "idf2 = idf[1:].copy()\n",
    "idf2.insert(5,\"Rain_Yesterday\",idf.Rain[0:-1].values)"
   ]
  },
  {
   "cell_type": "markdown",
   "metadata": {
    "slideshow": {
     "slide_type": "slide"
    }
   },
   "source": [
    "## Time domain"
   ]
  },
  {
   "cell_type": "code",
   "execution_count": 17,
   "metadata": {
    "slideshow": {
     "slide_type": "fragment"
    }
   },
   "outputs": [
    {
     "data": {
      "image/png": "[encoded data removed]",
      "text/plain": [
       "<Figure size 432x288 with 1 Axes>"
      ]
     },
     "metadata": {
      "needs_background": "light"
     },
     "output_type": "display_data"
    }
   ],
   "source": [
    "plt.plot(idf2.Date,idf2.Rain)\n",
    "plt.xlabel('Ithaca January 1989 (Day)');\n",
    "plt.ylabel('1 = Rain, 0 = None'); "
   ]
  },
  {
   "cell_type": "markdown",
   "metadata": {
    "slideshow": {
     "slide_type": "fragment"
    }
   },
   "source": [
    "### How could we model this?"
   ]
  },
  {
   "cell_type": "markdown",
   "metadata": {
    "slideshow": {
     "slide_type": "slide"
    }
   },
   "source": [
    "## Markov Chain\n",
    "\n"
   ]
  },
  {
   "cell_type": "code",
   "execution_count": null,
   "metadata": {},
   "outputs": [],
   "source": [
    "# Find the number of transitions between each state\n",
    "n00 = idf2[(idf2.Rain_Yesterday==0) & (idf2.Rain==0)].shape[0]\n",
    "n01 = idf2[(idf2.Rain_Yesterday==0) & (idf2.Rain==1)].shape[0]\n",
    "n10 = idf2[(idf2.Rain_Yesterday==1) & (idf2.Rain==0)].shape[0]\n",
    "n11 = idf2[(idf2.Rain_Yesterday==1) & (idf2.Rain==1)].shape[0]\n",
    "\n",
    "n0d = n00+n01\n",
    "n1d = n10+n11\n",
    "nd0 = n00+n10\n",
    "nd1 = n01+n11\n",
    "\n",
    "n = n0d+n1d\n",
    "\n",
    "p00 = n00/n0d\n",
    "p01 = n01/n0d\n",
    "p10 = n10/n1d\n",
    "p11 = n11/n1d\n",
    "\n",
    "e00 = n0d*nd0/n\n",
    "e01 = n0d*nd1/n\n",
    "e10 = n1d*nd0/n\n",
    "e11 = n1d*nd1/n\n",
    "\n",
    "Xi2 = (n00-e00)**2/e00 + (n10-e10)**2/e10 + \\\n",
    "(n01-e01)**2/e01 + (n11-e11)**2/e11\n"
   ]
  },
  {
   "cell_type": "code",
   "execution_count": null,
   "metadata": {},
   "outputs": [],
   "source": [
    "# Find the number of transitions between each state\n",
    "def Xisq(yesterday,today):\n",
    "    n00 = yesterday[(yesterday==0) & (today==0)].shape[0]\n",
    "    n01 = yesterday[(yesterday==0) & (today==1)].shape[0]\n",
    "    n10 = yesterday[(yesterday==1) & (today==0)].shape[0]\n",
    "    n11 = yesterday[(yesterday==1) & (today==1)].shape[0]\n",
    "    \n",
    "    n0d = n00+n01\n",
    "    n1d = n10+n11\n",
    "    nd0 = n00+n10\n",
    "    nd1 = n01+n11\n",
    "    \n",
    "    n = n0d+n1d\n",
    "    \n",
    "    p00 = n00/n0d\n",
    "    p01 = n01/n0d\n",
    "    p10 = n10/n1d\n",
    "    p11 = n11/n1d\n",
    "    \n",
    "    e00 = n0d*nd0/n\n",
    "    e01 = n0d*nd1/n\n",
    "    e10 = n1d*nd0/n\n",
    "    e11 = n1d*nd1/n\n",
    "\n",
    "    Xi2 = (n00-e00)**2/e00 + (n10-e10)**2/e10 + \\\n",
    "    (n01-e01)**2/e01 + (n11-e11)**2/e11\n",
    "    return Xi2"
   ]
  },
  {
   "cell_type": "code",
   "execution_count": null,
   "metadata": {},
   "outputs": [],
   "source": [
    "X2 = Xisq(idf2.Rain_Yesterday,idf2.Rain)\n",
    "X2"
   ]
  },
  {
   "cell_type": "code",
   "execution_count": null,
   "metadata": {},
   "outputs": [],
   "source": [
    "after_norain = idf2.Rain[(idf2.Rain_Yesterday==0)].values\n",
    "after_rain = idf2.Rain[(idf2.Rain_Yesterday==1)].values\n",
    "\n",
    "N = 30\n",
    "markov = np.zeros([N,1])\n",
    "indep = np.zeros([N,1])\n",
    "day = np.arange(0,N)\n",
    "\n",
    "markov[0]=random.choice(idf2.Rain.values)\n",
    "indep[0]=random.choice(idf2.Rain.values)\n",
    "for i in day[:-1]:\n",
    "    indep[i+1] = random.choice(idf2.Rain.values)\n",
    "    if markov[i] == 0:\n",
    "        markov[i+1] = np.random.choice(after_norain)\n",
    "    else:\n",
    "        markov[i+1] = np.random.choice(after_rain)\n",
    "        \n",
    "plt.plot(day,markov,label='Markov Chain Model')\n",
    "plt.plot(day,indep,label='Serially independent model')\n",
    "plt.xlabel('Day');plt.ylabel('1=Rain, 0=None'); plt.legend()#markov[:-1]\n",
    "\n",
    "Xisq_markov = Xisq(markov[:-1],markov[1:])\n",
    "Xisq_indep = Xisq(indep[:-1],indep[1:])\n",
    "\n",
    "print(Xisq_markov,Xisq_indep)"
   ]
  },
  {
   "cell_type": "code",
   "execution_count": 2,
   "metadata": {},
   "outputs": [],
   "source": []
  },
  {
   "cell_type": "code",
   "execution_count": null,
   "metadata": {},
   "outputs": [],
   "source": [
    "# Calculate b and a\n",
    "x0 = cdf.MinTemp_Far.values[:-1]\n",
    "x1 = cdf.MinTemp_Far.values[1:]\n",
    "n = x0.shape[0]\n",
    "phi = (n*np.sum(x0*x1)-np.sum(x0)*np.sum(x1))\\\n",
    "/(n*np.sum(x0**2)-((np.sum(x0))**2))\n",
    "\n",
    "mu = x1.mean()\n",
    "\n",
    "#a = x0.mean() - phi*x0.mean()\n",
    "# Determine the least squares guess at 'y' (the Canandaigua temperature)\n",
    "x1_lr = phi*(x0-mu)+mu;\n",
    "\n",
    "plt.scatter(x0,x1)\n",
    "plt.plot(x0,x1_lr)\n",
    "\n",
    "z = b/np.sqrt(1/(n+1))\n",
    "\n",
    "sx = cdf.MinTemp_Far.std()\n",
    "\n",
    "mu = cdf.MinTemp_Far.values.mean()\n",
    "\n",
    "sig_e2 = (1-b**2)*cdf.MinTemp_Far.var()\n",
    "\n",
    "print(b,z,sx)\n",
    "\n",
    "sig_e = np.sqrt(sig_e2)"
   ]
  },
  {
   "cell_type": "code",
   "execution_count": null,
   "metadata": {},
   "outputs": [],
   "source": [
    "se2  = (1/(n-2))*sum((x1-x1_lr)**2)\n",
    "se2"
   ]
  },
  {
   "cell_type": "code",
   "execution_count": null,
   "metadata": {},
   "outputs": [],
   "source": [
    "N = 30;day = np.arange(0,N)\n",
    "AR1 = np.zeros([N,1])\n",
    "RND = np.zeros([N,1])\n",
    "\n",
    "AR1[0]=random.choice(cdf.MinTemp_Far.values)\n",
    "RND[0]=random.choice(cdf.MinTemp_Far.values)\n",
    "for i in day[:-1]:\n",
    "    RND[i+1] = np.random.normal(mu,sx)\n",
    "    AR1[i+1] = phi*(AR1[i]-mu)+np.random.normal(mu,sig_e)\n",
    "        \n",
    "plt.plot(day,AR1,label='Auto Regressive Model')\n",
    "plt.plot(day,RND,label='Serially independent model')\n",
    "plt.xlabel('Day');plt.ylabel('Minimum Temp. ($^o$F)'); \n",
    "plt.legend()"
   ]
  },
  {
   "cell_type": "code",
   "execution_count": null,
   "metadata": {},
   "outputs": [],
   "source": [
    "x = cdf.MinTemp_Far.values\n",
    "n = x.shape[0]\n",
    "M=7\n",
    "r = np.ones([M+1,1])\n",
    "\n",
    "x[-(n-5):]\n",
    "for k in np.arange(1,M+1):\n",
    "    xmns = x[:n-k].mean()\n",
    "    xpls = x[-(n-k):].mean()\n",
    "    r[k] = np.sum((x[:n-k]-xmns)*(x[-(n-k):]-xpls))/\\\n",
    "    (np.sqrt(np.sum((x[:n-k]-xmns)**2))*np.sqrt(np.sum((x[-(n-k):]-xpls)**2))) \n",
    "    #phi = np.linalg.solve()\n",
    "\n",
    "plt.plot(r)\n",
    "r"
   ]
  },
  {
   "cell_type": "code",
   "execution_count": null,
   "metadata": {},
   "outputs": [],
   "source": [
    "K=6\n",
    "A = np.ones([K,K])\n",
    "for i in np.arange(0,K):\n",
    "    A[i:,i] = r[:K-i,0] #np.arange(0,K-i)#\n",
    "    A[np.arange(i,-1,-1),i]=r[0:i+1,0]#np.arange(0,i+1)#\n",
    "    \n",
    "phi = np.linalg.solve(A.transpose(),r[1:K+1])\n",
    "\n",
    "xhat = np.zeros([n,])\n",
    "for i in np.arange(K,n):\n",
    "    #xhat[i] = np.sum(phi.transpose()*(x[np.arange(i-1,i-K-1,-1)]-x[K:].mean()))+x[K:].mean()\n",
    "    xhat[i] = np.sum(phi.transpose()*(x[np.arange(i-1,i-K-1,-1)]-x.mean()))+x.mean()\n",
    "    \n",
    "#plt.scatter(xhat[K:n],x[K:n])\n",
    "\n",
    "vare = (xhat[K:n]-x[K:n]).var()*(n/(n-1))\n",
    "#rho = np.zeros([K+1,])\n",
    "#rho[0]=1\n",
    "#for i in np.arange(1,K+1):\n",
    "#    rho[i]=np.sum(phi[:i].transpose()*rho[np.arange(i-1,0-1,-1)])\n",
    "#sige = (1-np.sum(rho[1:]*phi.transpose()))*x.var()*(n/(n-1))\n",
    "vare\n"
   ]
  },
  {
   "cell_type": "code",
   "execution_count": null,
   "metadata": {},
   "outputs": [],
   "source": []
  },
  {
   "cell_type": "code",
   "execution_count": null,
   "metadata": {},
   "outputs": [],
   "source": []
  },
  {
   "cell_type": "code",
   "execution_count": null,
   "metadata": {},
   "outputs": [],
   "source": [
    "phi[:i].transpose()"
   ]
  },
  {
   "cell_type": "code",
   "execution_count": null,
   "metadata": {},
   "outputs": [],
   "source": [
    "rho[np.arange(i-1,0-1,-1)]"
   ]
  },
  {
   "cell_type": "code",
   "execution_count": null,
   "metadata": {},
   "outputs": [],
   "source": [
    "rho = np.ones([K,])\n",
    "for i in np.arange(1,K):\n",
    "    rho[i]=np.sum(phi[:i].transpose()*rho[np.arange(i,0,-1)])\n",
    "rho"
   ]
  },
  {
   "cell_type": "code",
   "execution_count": null,
   "metadata": {},
   "outputs": [],
   "source": [
    "np.arange(i-1,i-K-1,-1)\n"
   ]
  },
  {
   "cell_type": "code",
   "execution_count": null,
   "metadata": {},
   "outputs": [],
   "source": []
  },
  {
   "cell_type": "markdown",
   "metadata": {
    "id": "eRUk8d37HNr6",
    "slideshow": {
     "slide_type": "slide"
    }
   },
   "source": [
    "## Forecasting\n",
    "\n",
    "When forecasting, we aim to make a predictions, $\\hat{y}$, of the value of a specific 'predictand' $y_i$, as a function of a set of predictors ${\\bf x}_i$ such that\n",
    "\n",
    "$$y_i = \\hat{y}({\\bf x}_i)+e_i.$$\n",
    "\n",
    "Above, $e_i$ is the error between the prediction and predictand and $\\hat{y}$ is designed so that $e_i$ is as small as possible. Although $e_i$ is (of course) unknown a priori, its statistical properties are of as much interest as the central prediction."
   ]
  },
  {
   "cell_type": "markdown",
   "metadata": {
    "slideshow": {
     "slide_type": "slide"
    }
   },
   "source": [
    "## Statistical Forecasting vs What?\n",
    "\n",
    "Statistical forecasting involves developing the function $\\hat{y}$ and determining the nature of $e$ based on some prior knowledge of $y_i$ and $\\bf{x}_i$. (These are often called ‘training’ data.)\n"
   ]
  },
  {
   "cell_type": "markdown",
   "metadata": {
    "slideshow": {
     "slide_type": "slide"
    }
   },
   "source": [
    "What are alternative approaches and when/how are the different approaches applicable?\n",
    "\n",
    "Examples: \n",
    "- Arrival time of a Tsunami;\n",
    "- Number of Orange Bellied Parrots arriving for summer in Tasmania;\n",
    "- Possibility of a La Niña in 2023.\n"
   ]
  },
  {
   "cell_type": "markdown",
   "metadata": {
    "slideshow": {
     "slide_type": "slide"
    }
   },
   "source": [
    "![NINOForecast.png](https://raw.githubusercontent.com/janzika/MATH5271/main/Lecture%202/NINOForecast.png)\n",
    "Infographic adapted by Elisabeth Gawthrop from figure by Tony Barnston."
   ]
  },
  {
   "cell_type": "markdown",
   "metadata": {
    "id": "REaEFLU9vflL",
    "slideshow": {
     "slide_type": "slide"
    }
   },
   "source": [
    "### Linear Regression\n",
    "linear regression is a simple example of a forecasting system. For a predictor $x_i$ we have\n",
    "\n",
    "$$ y_i = a + b x_i +  e_i.$$\n",
    "\n",
    "In this case we can simply calculate the slope $b$ and the intercept $a$ using\n",
    "\n",
    "$$ b = \\frac{\\sum_{i=1}^n \\left[ (x_i - \\overline{x})((y_i - \\overline{y})\\right]}{\\sum_{i=1}^n (x_i - \\overline{x})^2} \\,\\, \\text{and}\\,\\, a = \\overline{y} - b \\overline{x}.$$\n"
   ]
  },
  {
   "cell_type": "markdown",
   "metadata": {
    "slideshow": {
     "slide_type": "slide"
    }
   },
   "source": [
    "This is garaunteed to minimise the mean of the square of the residuals \n",
    "\n",
    "$$ s_e^2 = \\frac{1}{n-2}\\sum_{i=1}^n e_i^2.$$\n",
    "\n",
    "Let's recreate this relationship based on Wilk's Ithaca and Canandaigua minimum temperatures."
   ]
  },
  {
   "cell_type": "code",
   "execution_count": null,
   "metadata": {
    "colab": {
     "base_uri": "https://localhost:8080/",
     "height": 321
    },
    "id": "5GLxOMoQRoiE",
    "outputId": "12789ce6-6f55-4aed-bf9b-60b6caeab3a2",
    "slideshow": {
     "slide_type": "skip"
    }
   },
   "outputs": [],
   "source": [
    "# Subset just the Ithaca and Canandaigua data\n",
    "idf = df1[df1['Location'].isin(['Ithaca'])]\n",
    "x = idf.MinTemp_Far.values\n",
    "cdf = df1[df1['Location'].isin(['Canandaigua'])]\n",
    "y = cdf.MinTemp_Far.values\n",
    "n = x.shape[0]"
   ]
  },
  {
   "cell_type": "code",
   "execution_count": null,
   "metadata": {
    "slideshow": {
     "slide_type": "slide"
    }
   },
   "outputs": [],
   "source": [
    "# Calculate b and a\n",
    "b = (n*np.sum(x*y)-np.sum(x)*np.sum(y))\\\n",
    "/(n*np.sum(x**2)-((np.sum(x))**2))\n",
    "a = y.mean() - b*x.mean()\n",
    "# Determine the least squares guess at 'y' (the Canandaigua temperature)\n",
    "y_lr = a + b*x;"
   ]
  },
  {
   "cell_type": "code",
   "execution_count": null,
   "metadata": {
    "slideshow": {
     "slide_type": "slide"
    }
   },
   "outputs": [],
   "source": [
    "# Make the plot using matplotlib (plt)\n",
    "plt.scatter(x,y,label='Raw data');\n",
    "plt.plot(x,y_lr,'r',label='Linear Fit')\n",
    "plt.xlabel('Ithaca min. temp. ($x$, $^{\\circ}$F)')\n",
    "plt.ylabel('Canandaigua min. temp. ($y$, $^{\\circ}$F)')\n",
    "plt.legend()"
   ]
  },
  {
   "cell_type": "markdown",
   "metadata": {
    "id": "OEAzxCKAi2VA",
    "slideshow": {
     "slide_type": "slide"
    }
   },
   "source": [
    "This reveals the kind of relationship we were after. Now let's take a closer look at the uncertainty. \n",
    "\n",
    "The mean square of the resudials or MSE is often used as an estimate of the uncertainty but in fact we need to use the prediction variance which is\n",
    "\n",
    "$$ s^2_{\\hat{y}} = s_e^2\\left[ 1 + \\frac{1}{n} + \\frac{(x_0 - \\overline{x})^2}{\\sum_{i=1}^n(x_i - \\overline{x})^2}\\right].$$"
   ]
  },
  {
   "cell_type": "markdown",
   "metadata": {
    "slideshow": {
     "slide_type": "slide"
    }
   },
   "source": [
    "\n",
    "We can also determine the uncertainty in the fit line itself via the 'variance of the conditional mean'\n",
    "\n",
    "$$ s^2_{\\hat{y}|x_0} = s_e^2\\left[\\frac{1}{n} + \\frac{(x_0 - \\overline{x})^2}{\\sum_{i=1}^n(x_i - \\overline{x})^2}\\right].$$"
   ]
  },
  {
   "cell_type": "code",
   "execution_count": null,
   "metadata": {
    "colab": {
     "base_uri": "https://localhost:8080/",
     "height": 325
    },
    "id": "ciVuecQvJ9sj",
    "outputId": "7c8da739-e9c6-49f1-bb85-736d74404530",
    "slideshow": {
     "slide_type": "slide"
    }
   },
   "outputs": [],
   "source": [
    "# Determine the mean square error, the prediciton variance and variance of the \n",
    "# conditional mean\n",
    "se2  = (1/(n-2))*sum((y-y_lr)**2)\n",
    "sy2 = se2*(1+ (1/n) + (x-x.mean())**2/(sum((x-x.mean())**2)))\n",
    "syx02 = se2*((1/n) + (x-x.mean())**2/(sum((x-x.mean())**2)))\n",
    "# Plot\n",
    "plt.scatter(x,y)\n",
    "plt.plot(x,y_lr,'r')\n",
    "plt.plot(x,y_lr+1.96*np.sqrt(sy2),'k',x,y_lr-1.96*np.sqrt(sy2),'k')\n",
    "plt.plot(x,y_lr+1.96*np.sqrt(syx02),'g',x,y_lr-1.96*np.sqrt(syx02),'g')\n",
    "plt.xlabel('Ithaca min. temp. ($x$, $^{\\circ}$F)')\n",
    "plt.ylabel('Canandaigua min. temp. ($y$, $^{\\circ}$F)')"
   ]
  },
  {
   "cell_type": "markdown",
   "metadata": {
    "id": "ftxwGJYQIH8H",
    "slideshow": {
     "slide_type": "slide"
    }
   },
   "source": [
    "## Multiple Linear Regression\n",
    "Multiple linear regression allows for multiple ($K$) predictors \n",
    "\n",
    "$$ \\hat{y}(x_1,x_2,x_K) = b_0 + b_1 x_1 +  b_2 x_2 + ... + b_K x_K$$\n",
    "\n",
    "Furthermore, $x_i$ can be a ‘derived’ predictor variable such as $x^i$. This special case is a polynomial fit.\n",
    "\n",
    "$$ \\hat{y}(x) = b_0 + b_1 x +  b_2 x^2 + ... + b_K x^K$$\n",
    "\n",
    "The model itself is ‘non-linear’ but the regression is linear since we are just looking for the coefficients $b_i$."
   ]
  },
  {
   "cell_type": "markdown",
   "metadata": {
    "slideshow": {
     "slide_type": "slide"
    }
   },
   "source": [
    "## How to do multiple linear regression\n",
    "Python packages such as numpy have various inbuilt functions such as 'polyfit' for fitting polynomials and similar special cases. If we want to use mupltiple predictors then it is more general to set the problem up in matrix form such that\n",
    "\n",
    "$$ \\text{X} \\bf{b} = \\bf{y} $$\n",
    "\n",
    "where $\\text{A}$ is a K by n matrix of predictors, $\\bf{b}$ are the K unknown regression parameters and $\\bf{y}$ are the $n$ observations $y_i$. If n>K the inversion $\\bf{b} = \\text{X}^{-1} \\bf{y} $ is solved using least squares."
   ]
  },
  {
   "cell_type": "code",
   "execution_count": null,
   "metadata": {
    "colab": {
     "base_uri": "https://localhost:8080/"
    },
    "id": "PJe2gIDUCiQl",
    "outputId": "3eb3ab60-59f9-4724-bdef-e9849118b675",
    "slideshow": {
     "slide_type": "slide"
    }
   },
   "outputs": [],
   "source": [
    "#Solve our simple linear fit using numpy's 'polyfit':\n",
    "[b_poly,a_poly] =  np.polyfit(x,y,1)\n",
    "\n",
    "#Solve using linear algebra:\n",
    "#Make a 2 by n matrix with 1s as the first column and the predictor x as the second\n",
    "X = np.array([1+0*x,x]).transpose()\n",
    "# Now we have A b = y and we can use numpy's 'linalg.lstsq' function\n",
    "bmat  = np.linalg.lstsq(X,y,rcond=None)\n",
    "\n",
    "#Compare direct, polyfit and matrix approaches\n",
    "print(a,b)\n",
    "print(a_poly,b_poly)\n",
    "print(bmat[0][0],bmat[0][1])"
   ]
  },
  {
   "cell_type": "markdown",
   "metadata": {
    "slideshow": {
     "slide_type": "slide"
    }
   },
   "source": [
    "## Analysis of variance and 'goodness' of fit\n",
    "\n",
    "![ANOVAtable.png](https://raw.githubusercontent.com/janzika/MATH5271/main/Lecture%202/ANOVAtable.png)\n",
    "\n",
    "$$ R^2 = \\frac{SSR}{SST} = 1 - \\frac{SSE}{SST}$$\n"
   ]
  },
  {
   "cell_type": "markdown",
   "metadata": {
    "slideshow": {
     "slide_type": "slide"
    }
   },
   "source": [
    "## Nonlinear Regression\n",
    "We can also do operations on the left hand side such as for ’Poisson Regression’  \n",
    "\n",
    "$$ \\ln(\\hat{y}) = b_0 + b_1 x_1 +  b_2 x_2 + ... + b_K x_K$$\n",
    "\n",
    "or 'Logistic Regression'\n",
    "\n",
    "$$ \\ln(\\hat{y}/(1-\\hat{y})) = b_0 + b_1 x_1 +  b_2 x_2 + ... + b_K x_K.$$\n",
    "\n",
    "Since we know the LHS and RHS can we simply solve this using the methods above?\n"
   ]
  },
  {
   "cell_type": "markdown",
   "metadata": {
    "slideshow": {
     "slide_type": "slide"
    }
   },
   "source": [
    "## What do these functions look like?\n",
    "\n",
    "\n",
    "\n",
    "## Where might each be useful?"
   ]
  },
  {
   "cell_type": "markdown",
   "metadata": {
    "slideshow": {
     "slide_type": "slide"
    }
   },
   "source": [
    "## Other Considerations?\n",
    "![scattererror.png](https://raw.githubusercontent.com/janzika/MATH5271/main/Lecture%202/scattererror.png)"
   ]
  },
  {
   "cell_type": "markdown",
   "metadata": {
    "slideshow": {
     "slide_type": "slide"
    }
   },
   "source": [
    "## Predictor Selection\n",
    "\n",
    "Why not use all available data to make a fit? What should be done instead?\n",
    "\n",
    "![predictorselection.png](https://raw.githubusercontent.com/janzika/MATH5271/main/Lecture%202/predictorselection.png)"
   ]
  },
  {
   "cell_type": "markdown",
   "metadata": {
    "slideshow": {
     "slide_type": "skip"
    }
   },
   "source": [
    "## Predictor Selection\n",
    "\n",
    "Why not use all available data to make a fit? What should be done instead?\n",
    "\n",
    "<div>\n",
    "<img src=\"https://raw.githubusercontent.com/janzika/MATH5271/main/Lecture%202/predictorselection.png\" width=\"400\"/>\n",
    "</div>\n"
   ]
  },
  {
   "cell_type": "markdown",
   "metadata": {
    "slideshow": {
     "slide_type": "slide"
    }
   },
   "source": [
    "![predictselect2.png](https://raw.githubusercontent.com/janzika/MATH5271/main/Lecture%202/predictselect2.png)"
   ]
  },
  {
   "cell_type": "markdown",
   "metadata": {
    "slideshow": {
     "slide_type": "slide"
    }
   },
   "source": [
    "## Process Based Model Forecasts\n",
    "\n",
    "![NWP.png](https://raw.githubusercontent.com/janzika/MATH5271/main/Lecture%202/NWP.png)\n",
    "\n",
    "https://www.youtube.com/watch?v=QrGrbiHBmWg&t=121s"
   ]
  },
  {
   "cell_type": "markdown",
   "metadata": {
    "slideshow": {
     "slide_type": "slide"
    }
   },
   "source": [
    "Process Based Model Forecasts\n",
    "\n",
    "![NWP2.png](https://raw.githubusercontent.com/janzika/MATH5271/main/Lecture%202/NWP2.png)"
   ]
  },
  {
   "cell_type": "markdown",
   "metadata": {
    "id": "I3zJBcmp_Epy",
    "slideshow": {
     "slide_type": "slide"
    }
   },
   "source": [
    "## Perfect Prog and MOS\n",
    "\n",
    "Classic Forecasting: $\\hat{y}_t = f_C(\\bf{x}_0)$\n",
    "\n",
    "Prefect Prog: \n",
    "\n",
    "$\\hat{y}_0 = f_{PP}(\\bf{x}_0)$ (development) and\n",
    "\n",
    "$\\hat{y}_t = f_{PP}(\\bf{x}_t)$ (implementation).\n",
    "\n",
    "Model Output Statistics (MOS): \n",
    "\n",
    "$\\hat{y}_t = f_{MOS}(\\bf{x}_t)$"
   ]
  },
  {
   "cell_type": "markdown",
   "metadata": {
    "slideshow": {
     "slide_type": "skip"
    }
   },
   "source": [
    "## Perfect Prog and MOS\n",
    "\n",
    "<div>\n",
    "<img src=\"https://raw.githubusercontent.com/janzika/MATH5271/main/Lecture%202/ProgMOS.png\" width=\"500\"/>\n",
    "</div>"
   ]
  },
  {
   "cell_type": "markdown",
   "metadata": {
    "slideshow": {
     "slide_type": "slide"
    }
   },
   "source": [
    "## Perfect Prog and MOS\n",
    "\n",
    "![ProgMOS.png](https://raw.githubusercontent.com/janzika/MATH5271/main/Lecture%202/ProgMOS.png)"
   ]
  },
  {
   "cell_type": "markdown",
   "metadata": {
    "slideshow": {
     "slide_type": "slide"
    }
   },
   "source": [
    "## Ensemble forecasts and data assimilation\n",
    "\n",
    "![ensforecast.png](https://raw.githubusercontent.com/janzika/MATH5271/main/Lecture%202/ensforecast.png)\n",
    "\n",
    "A schematic representation of the data assimilation process from [Apte A. (2015) An Introduction to Data Assimilation](doi.org/10.1007/978-81-322-2547-8_4)\n"
   ]
  },
  {
   "cell_type": "markdown",
   "metadata": {
    "id": "UcaqAkrbc7B2",
    "slideshow": {
     "slide_type": "slide"
    }
   },
   "source": [
    "## Summary\n",
    "\n",
    "We have discussed:\n",
    "\n",
    "*   How linear regression works and how to do it in python;\n",
    "* Some aspects of nonlinear regression and overfitting;\n",
    "* How statistical forecasts can be combined with process based forecasts.\n"
   ]
  }
 ],
 "metadata": {
  "celltoolbar": "Slideshow",
  "colab": {
   "collapsed_sections": [
    "UcaqAkrbc7B2"
   ],
   "name": "MATH5271 Lab 5 Statistical Forecasting.ipynb",
   "provenance": []
  },
  "kernelspec": {
   "display_name": "Python 3 (ipykernel)",
   "language": "python",
   "name": "python3"
  },
  "language_info": {
   "codemirror_mode": {
    "name": "ipython",
    "version": 3
   },
   "file_extension": ".py",
   "mimetype": "text/x-python",
   "name": "python",
   "nbconvert_exporter": "python",
   "pygments_lexer": "ipython3",
   "version": "3.9.7"
  }
 },
 "nbformat": 4,
 "nbformat_minor": 1
}
