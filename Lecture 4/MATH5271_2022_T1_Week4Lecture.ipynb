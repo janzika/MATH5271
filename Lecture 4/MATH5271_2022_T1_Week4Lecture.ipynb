{
 "cells": [
  {
   "cell_type": "markdown",
   "metadata": {
    "id": "pumJKWaN_KQp",
    "slideshow": {
     "slide_type": "slide"
    }
   },
   "source": [
    "# MATH5271 Environmental Data Science and Statistics\n",
    "\n",
    "\n",
    "\n",
    "## Week 4: Time Series II - Frequency Domain"
   ]
  },
  {
   "cell_type": "markdown",
   "metadata": {
    "id": "pumJKWaN_KQp",
    "slideshow": {
     "slide_type": "slide"
    }
   },
   "source": [
    "### Welcome to Week 4 of MATH5271. In this session we will explore time series analysis using frequency domain methods. By the end of this lab you should understand:\n",
    "\n",
    "- How to fit individual harmonics to a time series;\n",
    "- How to represent an entire time series as a sum of harmonic functions and interpret periodograms;\n",
    "- Use ideas related to the Nyquvist frequency to understand aliased signals and\n",
    "- Various applications of frequency domain approaches in Environemntal Data Sciences.\n"
   ]
  },
  {
   "cell_type": "markdown",
   "metadata": {
    "id": "I1N5bw-kBB1e",
    "slideshow": {
     "slide_type": "skip"
    }
   },
   "source": [
    "## 1. Setup and Load Data\n",
    "\n",
    "Before we get started analysing some data we need to ensure we have the appropriate 'libraries' installed. You can think of these as opening a box of available tools. The .csv files we upload will be uploaded into a 'pandas' data frame. We will use the 'numpy' (numerical python) packkage to do some basic maths with the data and Matplotlib's 'pyplot' package to make some pretty graphs. There are many other packages and libraries avaialble freely in python. We will experiment with a few in this course but will only really scratch the surface. I will try to keep things as simple as possible so we can focus on understanding - rather than trouble shooting technical issues."
   ]
  },
  {
   "cell_type": "code",
   "execution_count": 1,
   "metadata": {
    "id": "CvkqAIxihwge",
    "slideshow": {
     "slide_type": "skip"
    }
   },
   "outputs": [],
   "source": [
    "# import libraries\n",
    "import pandas as pd\n",
    "\n",
    "# Numerics\n",
    "import numpy as np\n",
    "\n",
    "# Plotting\n",
    "import matplotlib.pyplot as plt\n",
    "\n",
    "# plot figures in Colaboratory notebook\n",
    "%matplotlib inline"
   ]
  },
  {
   "cell_type": "markdown",
   "metadata": {
    "id": "b0euklFmVr_D",
    "slideshow": {
     "slide_type": "skip"
    }
   },
   "source": [
    "I have copied the data table 9.6 from Wilks into a csv file and am storing these on github.\n",
    "\n",
    "We will load the data table as a pandas 'DataFrame'. This is a 2-dimensional data structure that can store data of different types and has inbuilt operations (like calcualting statistics and doing basic plots). "
   ]
  },
  {
   "cell_type": "code",
   "execution_count": 2,
   "metadata": {
    "colab": {
     "base_uri": "https://localhost:8080/",
     "height": 375
    },
    "id": "0dAUuRx8l8CQ",
    "outputId": "a2235381-72e0-49fd-a49b-4f95c867efd5",
    "slideshow": {
     "slide_type": "skip"
    }
   },
   "outputs": [
    {
     "data": {
      "text/html": [
       "<div>\n",
       "<style scoped>\n",
       "    .dataframe tbody tr th:only-of-type {\n",
       "        vertical-align: middle;\n",
       "    }\n",
       "\n",
       "    .dataframe tbody tr th {\n",
       "        vertical-align: top;\n",
       "    }\n",
       "\n",
       "    .dataframe thead th {\n",
       "        text-align: right;\n",
       "    }\n",
       "</style>\n",
       "<table border=\"1\" class=\"dataframe\">\n",
       "  <thead>\n",
       "    <tr style=\"text-align: right;\">\n",
       "      <th></th>\n",
       "      <th>Month</th>\n",
       "      <th>Year</th>\n",
       "      <th>Temp_Far</th>\n",
       "      <th>Location</th>\n",
       "    </tr>\n",
       "  </thead>\n",
       "  <tbody>\n",
       "    <tr>\n",
       "      <th>0</th>\n",
       "      <td>1</td>\n",
       "      <td>1987</td>\n",
       "      <td>21.4</td>\n",
       "      <td>Ithaca</td>\n",
       "    </tr>\n",
       "    <tr>\n",
       "      <th>1</th>\n",
       "      <td>2</td>\n",
       "      <td>1987</td>\n",
       "      <td>17.9</td>\n",
       "      <td>Ithaca</td>\n",
       "    </tr>\n",
       "    <tr>\n",
       "      <th>2</th>\n",
       "      <td>3</td>\n",
       "      <td>1987</td>\n",
       "      <td>35.9</td>\n",
       "      <td>Ithaca</td>\n",
       "    </tr>\n",
       "    <tr>\n",
       "      <th>3</th>\n",
       "      <td>4</td>\n",
       "      <td>1987</td>\n",
       "      <td>47.7</td>\n",
       "      <td>Ithaca</td>\n",
       "    </tr>\n",
       "    <tr>\n",
       "      <th>4</th>\n",
       "      <td>5</td>\n",
       "      <td>1987</td>\n",
       "      <td>56.4</td>\n",
       "      <td>Ithaca</td>\n",
       "    </tr>\n",
       "    <tr>\n",
       "      <th>5</th>\n",
       "      <td>6</td>\n",
       "      <td>1987</td>\n",
       "      <td>66.3</td>\n",
       "      <td>Ithaca</td>\n",
       "    </tr>\n",
       "    <tr>\n",
       "      <th>6</th>\n",
       "      <td>7</td>\n",
       "      <td>1987</td>\n",
       "      <td>70.9</td>\n",
       "      <td>Ithaca</td>\n",
       "    </tr>\n",
       "    <tr>\n",
       "      <th>7</th>\n",
       "      <td>8</td>\n",
       "      <td>1987</td>\n",
       "      <td>65.8</td>\n",
       "      <td>Ithaca</td>\n",
       "    </tr>\n",
       "    <tr>\n",
       "      <th>8</th>\n",
       "      <td>9</td>\n",
       "      <td>1987</td>\n",
       "      <td>60.1</td>\n",
       "      <td>Ithaca</td>\n",
       "    </tr>\n",
       "    <tr>\n",
       "      <th>9</th>\n",
       "      <td>10</td>\n",
       "      <td>1987</td>\n",
       "      <td>45.4</td>\n",
       "      <td>Ithaca</td>\n",
       "    </tr>\n",
       "    <tr>\n",
       "      <th>10</th>\n",
       "      <td>11</td>\n",
       "      <td>1987</td>\n",
       "      <td>39.5</td>\n",
       "      <td>Ithaca</td>\n",
       "    </tr>\n",
       "    <tr>\n",
       "      <th>11</th>\n",
       "      <td>12</td>\n",
       "      <td>1987</td>\n",
       "      <td>31.3</td>\n",
       "      <td>Ithaca</td>\n",
       "    </tr>\n",
       "    <tr>\n",
       "      <th>12</th>\n",
       "      <td>1</td>\n",
       "      <td>1988</td>\n",
       "      <td>20.6</td>\n",
       "      <td>Ithaca</td>\n",
       "    </tr>\n",
       "    <tr>\n",
       "      <th>13</th>\n",
       "      <td>2</td>\n",
       "      <td>1988</td>\n",
       "      <td>22.5</td>\n",
       "      <td>Ithaca</td>\n",
       "    </tr>\n",
       "    <tr>\n",
       "      <th>14</th>\n",
       "      <td>3</td>\n",
       "      <td>1988</td>\n",
       "      <td>32.9</td>\n",
       "      <td>Ithaca</td>\n",
       "    </tr>\n",
       "    <tr>\n",
       "      <th>15</th>\n",
       "      <td>4</td>\n",
       "      <td>1988</td>\n",
       "      <td>43.6</td>\n",
       "      <td>Ithaca</td>\n",
       "    </tr>\n",
       "    <tr>\n",
       "      <th>16</th>\n",
       "      <td>5</td>\n",
       "      <td>1988</td>\n",
       "      <td>56.5</td>\n",
       "      <td>Ithaca</td>\n",
       "    </tr>\n",
       "    <tr>\n",
       "      <th>17</th>\n",
       "      <td>6</td>\n",
       "      <td>1988</td>\n",
       "      <td>61.9</td>\n",
       "      <td>Ithaca</td>\n",
       "    </tr>\n",
       "    <tr>\n",
       "      <th>18</th>\n",
       "      <td>7</td>\n",
       "      <td>1988</td>\n",
       "      <td>71.6</td>\n",
       "      <td>Ithaca</td>\n",
       "    </tr>\n",
       "    <tr>\n",
       "      <th>19</th>\n",
       "      <td>8</td>\n",
       "      <td>1988</td>\n",
       "      <td>69.9</td>\n",
       "      <td>Ithaca</td>\n",
       "    </tr>\n",
       "    <tr>\n",
       "      <th>20</th>\n",
       "      <td>9</td>\n",
       "      <td>1988</td>\n",
       "      <td>57.9</td>\n",
       "      <td>Ithaca</td>\n",
       "    </tr>\n",
       "    <tr>\n",
       "      <th>21</th>\n",
       "      <td>10</td>\n",
       "      <td>1988</td>\n",
       "      <td>45.2</td>\n",
       "      <td>Ithaca</td>\n",
       "    </tr>\n",
       "    <tr>\n",
       "      <th>22</th>\n",
       "      <td>11</td>\n",
       "      <td>1988</td>\n",
       "      <td>40.5</td>\n",
       "      <td>Ithaca</td>\n",
       "    </tr>\n",
       "    <tr>\n",
       "      <th>23</th>\n",
       "      <td>12</td>\n",
       "      <td>1988</td>\n",
       "      <td>26.7</td>\n",
       "      <td>Ithaca</td>\n",
       "    </tr>\n",
       "  </tbody>\n",
       "</table>\n",
       "</div>"
      ],
      "text/plain": [
       "    Month  Year  Temp_Far Location\n",
       "0       1  1987      21.4   Ithaca\n",
       "1       2  1987      17.9   Ithaca\n",
       "2       3  1987      35.9   Ithaca\n",
       "3       4  1987      47.7   Ithaca\n",
       "4       5  1987      56.4   Ithaca\n",
       "5       6  1987      66.3   Ithaca\n",
       "6       7  1987      70.9   Ithaca\n",
       "7       8  1987      65.8   Ithaca\n",
       "8       9  1987      60.1   Ithaca\n",
       "9      10  1987      45.4   Ithaca\n",
       "10     11  1987      39.5   Ithaca\n",
       "11     12  1987      31.3   Ithaca\n",
       "12      1  1988      20.6   Ithaca\n",
       "13      2  1988      22.5   Ithaca\n",
       "14      3  1988      32.9   Ithaca\n",
       "15      4  1988      43.6   Ithaca\n",
       "16      5  1988      56.5   Ithaca\n",
       "17      6  1988      61.9   Ithaca\n",
       "18      7  1988      71.6   Ithaca\n",
       "19      8  1988      69.9   Ithaca\n",
       "20      9  1988      57.9   Ithaca\n",
       "21     10  1988      45.2   Ithaca\n",
       "22     11  1988      40.5   Ithaca\n",
       "23     12  1988      26.7   Ithaca"
      ]
     },
     "metadata": {},
     "output_type": "display_data"
    }
   ],
   "source": [
    "# Define the URL where the data set is stored\n",
    "df_url = 'https://raw.githubusercontent.com/janzika/MATH5271/main/Wilks_Table8.6.csv' \n",
    "\n",
    "# Import the data set as a Pandas Dataframe using the 'read_csv' function\n",
    "df = pd.read_csv(df_url)\n",
    "\n",
    "# Let's look at all the data\n",
    "pd.set_option('display.max_rows', 100) # Without this it will only show a few rows\n",
    "display(df)"
   ]
  },
  {
   "attachments": {},
   "cell_type": "markdown",
   "metadata": {
    "slideshow": {
     "slide_type": "slide"
    }
   },
   "source": [
    "## Time domain vs frequency domain (Wilks)\n",
    "\n",
    "### Time domain\n",
    "“Time-domain methods seek to characterize data series in the same terms in which they are observed and reported. A primary tool for characterization of relationships between data values in the time-domain approach is the autocorrelation function.“\n",
    "\n",
    "### Frequency domain\n",
    "“Frequency-domain analysis represents data series in terms of contributions occurring at different time scales, or characteristic frequencies. Each time scale is represented by a pair of sine and cosine functions.”"
   ]
  },
  {
   "attachments": {},
   "cell_type": "markdown",
   "metadata": {
    "slideshow": {
     "slide_type": "slide"
    }
   },
   "source": [
    "## Frequency domain: Practical motivation\n",
    "\n",
    "- Identify cycles in data (potetially linked to interesting processes)\n",
    "- May want to remove (filter) certain cycles in order to extract underlying information (e.g. long term trend).\n",
    "- Frequency domain analysis ‘better’ (we’ll see why) than simply removing averages on certain time scales."
   ]
  },
  {
   "attachments": {},
   "cell_type": "markdown",
   "metadata": {
    "slideshow": {
     "slide_type": "skip"
    }
   },
   "source": [
    "## Frequency domain: Physical Motivations\n",
    "\n",
    "Oscillations appear in nature as a consequence of physical laws. Consider a simple undamped oscillator :\n",
    "\n",
    "$$\\frac{d^2x}{dt^2}  + c^2x = 0;\\,\\, x(0)=A; \\,\\, \\frac{dx}{dt}=0$$\n",
    "\n",
    "where $x$ is displacement and $c$ is a constant. This has the solution \n",
    "\n",
    "$$ x(t)=A\\cos(cx).$$\n",
    "\n",
    "Also, many natural systems are subjected to oscillating ‘forcing’ processes.\n",
    "    \n"
   ]
  },
  {
   "attachments": {},
   "cell_type": "markdown",
   "metadata": {
    "slideshow": {
     "slide_type": "skip"
    }
   },
   "source": [
    "## What examples can you think of where\n",
    "\n",
    "- Systems in nature generate harmonic cycles internally (i.e. like an oscillator)?\n",
    "- Systems in nature are affected by harmonic forcing.\n",
    "\n",
    "In what variables would we see evidence of such cycles?"
   ]
  },
  {
   "attachments": {},
   "cell_type": "markdown",
   "metadata": {
    "slideshow": {
     "slide_type": "skip"
    }
   },
   "source": [
    "## Examples of internally  oscillations\n",
    "\n",
    "- Sound (pressure waves);\n",
    "- Gravity, Planetary (Rossby, Kelvin etc.);\n",
    "- Bird song;\n",
    "- Sweying of trees."
   ]
  },
  {
   "attachments": {},
   "cell_type": "markdown",
   "metadata": {
    "slideshow": {
     "slide_type": "slide"
    }
   },
   "source": [
    "## Fitting harmonics\n",
    "\n",
    "Let’s say we have some data $y_t$ where $t$ is a time increment, and  we want to fit a single cosine function of known frequency ($2\\pi k/n$, where $n$ is length of the timeseires and $k$ is the number of complete cycles) but unknown phase ($\\phi_1$) and amplitude $C_1$. Here our model is\n",
    "\n",
    "$$y_t= \\overline{y} + C_1 \\cos⁡( \\frac{2\\pi k}{n} t + \\phi_1).$$\n",
    "\n",
    "Using the identity $\\cos(\\alpha+\\phi) = \\cos(\\alpha)\\cos(\\phi_1)+ \\sin(\\alpha)\\sin(\\phi_1)$ we find that\n",
    "\n",
    "$$y_t= \\overline{y} + A_1 \\cos⁡( \\frac{2\\pi k}{n} t) + B_1 \\sin( \\frac{2\\pi k}{n} t).$$\n",
    "\n",
    "with\n",
    "\n",
    "$$C_1^2 = A_1^2+B_1^2. $$\n",
    "\n",
    "How might we solve for $A_1$ and $B_1$?\n",
    "\n"
   ]
  },
  {
   "cell_type": "code",
   "execution_count": 18,
   "metadata": {
    "colab": {
     "base_uri": "https://localhost:8080/",
     "height": 282
    },
    "id": "_5cvLZ9fEsqi",
    "outputId": "a868578f-ba99-452b-8e2a-c4e3b7bb616b"
   },
   "outputs": [
    {
     "data": {
      "text/plain": [
       "Text(0, 0.5, 'Amplitude')"
      ]
     },
     "execution_count": 18,
     "metadata": {},
     "output_type": "execute_result"
    },
    {
     "data": {
      "image/png": "[encoded data removed]",
      "text/plain": [
       "<Figure size 432x288 with 1 Axes>"
      ]
     },
     "metadata": {
      "needs_background": "light"
     },
     "output_type": "display_data"
    }
   ],
   "source": [
    "# Plot some cosine and sine functions\n",
    "n = 24 #length of data set in months\n",
    "t = np.arange(0,n) #time dimension\n",
    "k = 2 #number of cycles (period = 12)\n",
    "# Use numpy to define cosine and sine\n",
    "cosfnc = np.cos(2*np.pi*t*k/n)\n",
    "sinfnc = np.sin(2*np.pi*t*k/n)\n",
    "plt.plot(cosfnc,label ='Cosine')\n",
    "plt.plot(sinfnc,label ='Sine')\n",
    "plt.grid(); plt.legend()\n",
    "plt.xlabel('t');plt.ylabel('Amplitude')"
   ]
  },
  {
   "attachments": {},
   "cell_type": "markdown",
   "metadata": {
    "slideshow": {
     "slide_type": "skip"
    }
   },
   "source": [
    "If we want to fit just a single harmonic, then an obvious approach is 'Least Squares' where find $A_k$ and $B_k$ such \n",
    "\n",
    "$$ y_i - \\overline{y} = A_k \\cos\\left(\\frac{2\\pi t k}{n}\\right) + B_k \\sin\\left(\\frac{2\\pi t k}{n}\\right) + \\epsilon_t $$\n",
    "\n",
    "and the root mean square of the error term ($\\sum \\epsilon_t^2$) is minimised. \n",
    "\n",
    "In order to exploit powerful linear algebra methods we can cast the above problem into matrix form such that \n",
    "\n",
    "$$ A \\bf{x} = \\bf{y} - \\bf{E} $$\n",
    "\n",
    "where $A$ is a 2 x $n$ matrix containing the cosine and sine functions, $\\bf{x} = [A_k,B_k]$. \n",
    "\n",
    "Let's try this and minimise the error using numpy's linear algebra, least squares function.\n",
    "\n"
   ]
  },
  {
   "cell_type": "code",
   "execution_count": 22,
   "metadata": {
    "colab": {
     "base_uri": "https://localhost:8080/",
     "height": 383
    },
    "id": "rqij-8y5YeEo",
    "outputId": "0591e2ae-fd44-409e-d025-9af5db5c4cdc"
   },
   "outputs": [
    {
     "data": {
      "text/plain": [
       "<matplotlib.legend.Legend at 0x7fd6a02c5d60>"
      ]
     },
     "execution_count": 22,
     "metadata": {},
     "output_type": "execute_result"
    },
    {
     "data": {
      "image/png": "[encoded data removed]",
      "text/plain": [
       "<Figure size 432x288 with 1 Axes>"
      ]
     },
     "metadata": {
      "needs_background": "light"
     },
     "output_type": "display_data"
    }
   ],
   "source": [
    "# Define A and y such that Ax = y\n",
    "A = np.array([cosfnc,sinfnc]).transpose()\n",
    "y = df.Temp_Far-df.Temp_Far.mean()\n",
    "# Solve x = inv(A)*y\n",
    "x_reg = np.linalg.lstsq(A, y,rcond=-1) #(rcond=1 supresses error msg.)\n",
    "A2lr = x_reg[0][0]; B2lr = x_reg[0][1]; \n",
    "y_harmonic = df.Temp_Far.mean() + A2lr*cosfnc+B2lr*sinfnc\n",
    "# Plot\n",
    "plt.plot(t,df.Temp_Far,label ='Ithaca data')\n",
    "plt.plot(t,y_harmonic,label ='Harmonic fit using Lin. Reg.)')\n",
    "plt.ylabel('Temperature ($^{\\circ}$F)'); plt.xlabel('Month'); plt.legend()"
   ]
  },
  {
   "cell_type": "markdown",
   "metadata": {
    "id": "_iV4YlD6a7_L",
    "slideshow": {
     "slide_type": "slide"
    }
   },
   "source": [
    "### Summation formula\n",
    "\n",
    "Least squares is actually not necassary in this case. We can compute coefficients for any period ($k$ up to $n/2$) simply using the following summation formulae\n",
    "\n",
    "$$ A_k = \\frac{2}{n}\\sum_{t=1}^{n}y_n\\cos\\left(\\frac{2\\pi t k}{n}\\right)$$\n",
    "\n",
    "and\n",
    "$$ B_k = \\frac{2}{n}\\sum_{t=1}^{n}y_n\\sin\\left(\\frac{2\\pi t k}{n}\\right).$$\n",
    "\n",
    "Let's try this.\n"
   ]
  },
  {
   "cell_type": "code",
   "execution_count": 24,
   "metadata": {
    "colab": {
     "base_uri": "https://localhost:8080/"
    },
    "id": "hSTZA_hJd6AW",
    "outputId": "39816c75-31a7-45a2-88cf-ea3eb25839af",
    "slideshow": {
     "slide_type": "slide"
    }
   },
   "outputs": [
    {
     "name": "stdout",
     "output_type": "stream",
     "text": [
      "-23.739767027193714 -2.163851173473855\n",
      "-23.739767027193725 -2.1638511734738537\n"
     ]
    }
   ],
   "source": [
    "#Compute coefficients using summation formulae\n",
    "A2 = (2/n)*np.sum(y*cosfnc)\n",
    "B2 = (2/n)*np.sum(y*sinfnc)\n",
    "#print and compare to least squares case (lr)\n",
    "print(A2,B2)\n",
    "print(A2lr,B2lr)"
   ]
  },
  {
   "cell_type": "markdown",
   "metadata": {
    "id": "RtBORNnlb52e",
    "slideshow": {
     "slide_type": "slide"
    }
   },
   "source": [
    "### Why do the summation formulae work?\n",
    "\n",
    "The trigonometric functions \\{$\\cos(\\frac{2\\pi t k}{n}),\\sin(\\frac{2\\pi t k}{n})$\\} form a complete orthoginal basis for the possible time series of length $n$. Integrating (summing) the basis functions multiplied by the data $y_t$ determines the projection of the data onto the basis function.\n",
    "\n",
    "This is called an 'internal product'. Taking the internal product of data with trig functions is equivalent to calculating the 'dot product' of a vector with basis vectors. E.g. for a vector in 3D ${\\bf u} = [u,v,w]$ and basis vectors $\\{{\\bf i},{\\bf j},{\\bf k}\\}$ we have\n",
    "$$ {\\bf u} \\cdot {\\bf i} = [u,0,0];\\\\\n",
    "{\\bf u} \\cdot {\\bf j} = [0,v,0]; \\\\\n",
    "{\\bf u} \\cdot {\\bf k} = [0,0,w].$$ \n",
    "\n",
    "We can think of the coefficients as describing how much the data projects onto each harmonic."
   ]
  },
  {
   "cell_type": "markdown",
   "metadata": {
    "slideshow": {
     "slide_type": "slide"
    }
   },
   "source": [
    "# Fourier Transform\n",
    "\n",
    "In general, we can represent any data with the set of harmonics from $k=1$ to $k=n/2$ such that\n",
    "\n",
    "$$ y_t = \\overline{y} + \\sum^{n/2}_{k=1} \\left[ A_k\\cos(\\frac{2\\pi t k}{n}) +B_k\\sin(\\frac{2\\pi t k}{n})\\right].\n",
    "$$\n",
    "\n",
    "The maginute of the data at each frequency $\\omega_k = 2\\pi k/n$ and period $\\tau_k = n/k$ is given by \n",
    "\n",
    "$$ C_k = \\left[ A_k^2+ B_k^2 \\right]^{1/2}. $$\n",
    "\n",
    "This projection of the data into the frequqncy domain is called the 'Fourier Transform'.\n",
    "\n",
    "Let's write a function to calculate the coefficients for all periods."
   ]
  },
  {
   "cell_type": "code",
   "execution_count": 36,
   "metadata": {
    "colab": {
     "base_uri": "https://localhost:8080/",
     "height": 129
    },
    "id": "Mq7NqSa0xVEF",
    "outputId": "58ed1e2c-87dd-429f-8102-f08bfa783089",
    "slideshow": {
     "slide_type": "slide"
    }
   },
   "outputs": [
    {
     "name": "stdout",
     "output_type": "stream",
     "text": [
      "[-23.739767027193714, -2.163851173473855]\n",
      "23.838179259464805\n"
     ]
    }
   ],
   "source": [
    "# Define function with data and harmonic as inputs, A and B as outputs\n",
    "def fourtrans(y,k): # y = data, k = harmonic\n",
    "  n = y.shape[0]\n",
    "  A_k=(2/n)*np.sum(y.values*np.cos(2*np.pi*k*np.arange(0,n)/n))\n",
    "  B_k=(2/n)*np.sum(y.values*np.sin(2*np.pi*k*np.arange(0,n)/n))\n",
    "  return (A_k, B_k)\n",
    "# Test for kth harmonic\n",
    "k=2\n",
    "[A,B] = fourtrans(y,k)\n",
    "print([A,B])\n",
    "C = np.sqrt(A**2+B**2)\n",
    "print(C)"
   ]
  },
  {
   "cell_type": "markdown",
   "metadata": {
    "id": "VWPPsBaPdAW2",
    "slideshow": {
     "slide_type": "slide"
    }
   },
   "source": [
    "##  Fast Fourier Transform\n",
    "We can diagnose the same thing using a Fast Fourier Transform algorithm. These are ubiquitous across and there is an inbuilt package in numpy.\n",
    "\n",
    "The fast fourier transform actually computes complex coefficients ($H_k$) where\n",
    "\n",
    "$$ H_k = \\frac{n}{2}\\sum_{i=1}^{n}y_n\\exp^{-i\\left(\\frac{2\\pi i k}{n}\\right)} = \\frac{n}{2}(A_k+iB_k)$$\n",
    "\n",
    "and $i$ is the complex number with $\\sqrt{i} = -1$. "
   ]
  },
  {
   "cell_type": "code",
   "execution_count": 130,
   "metadata": {
    "colab": {
     "base_uri": "https://localhost:8080/",
     "height": 382
    },
    "id": "Rv_aUqs8BRX1",
    "outputId": "a19e6c52-35a4-476c-e5b0-847b891ba18b",
    "slideshow": {
     "slide_type": "slide"
    }
   },
   "outputs": [
    {
     "data": {
      "text/plain": [
       "<matplotlib.legend.Legend at 0x7fd6aad40a90>"
      ]
     },
     "execution_count": 130,
     "metadata": {},
     "output_type": "execute_result"
    },
    {
     "data": {
      "image/png": "[encoded data removed]",
      "text/plain": [
       "<Figure size 432x288 with 1 Axes>"
      ]
     },
     "metadata": {
      "needs_background": "light"
     },
     "output_type": "display_data"
    }
   ],
   "source": [
    "## Use FFT to compute H_k and plot resulting \n",
    "Hk = np.fft.rfft(y,n)\n",
    "# Plot each componenent and magnitude\n",
    "plt.plot(np.arange(1,Hk.shape[0]),Hk.real[1:(int(n/2)+1)]/(n/2),label='Real (A_k)')\n",
    "plt.plot(np.arange(1,Hk.shape[0]),Hk.imag[1:(int(n/2)+1)]/(n/2),label='Imaginary (B_k)')\n",
    "plt.plot(np.arange(1,Hk.shape[0]),abs(Hk[1:int(n/2)+1]/(n/2)),label='Magnitude (C_k)')\n",
    "plt.xlabel('Harmonic (k)');plt.ylabel('Degrees Fahrenheit');plt.legend()"
   ]
  },
  {
   "cell_type": "markdown",
   "metadata": {
    "id": "VWPPsBaPdAW2",
    "slideshow": {
     "slide_type": "slide"
    }
   },
   "source": [
    "##  Periodogram\n",
    "\n",
    "It is instructive to determine the fraction of the total variability that resides at each frequency. For this it is useful to 'normalise' the magnitude of the harmonics $C_k$. \n",
    "\n",
    "The proportion of the total variance is given by the common $R^2$ statistic for the fit of each harmonic such that\n",
    "\n",
    "$$ R_k^2  = \\frac{(n/2) C_k^2}{(n-1)s_y}$$\n",
    "\n",
    "Let's display the the frequency domain projection of the Ithaca data as a periodogram."
   ]
  },
  {
   "cell_type": "code",
   "execution_count": 131,
   "metadata": {
    "colab": {
     "base_uri": "https://localhost:8080/",
     "height": 286
    },
    "id": "kHtPdwpCKab5",
    "outputId": "0e34c2bd-ec3a-4650-e381-d6e331bf0e2f",
    "slideshow": {
     "slide_type": "slide"
    }
   },
   "outputs": [
    {
     "data": {
      "text/plain": [
       "Text(0.5, 0, 'Period, $\\tau_k$ (months)')"
      ]
     },
     "execution_count": 131,
     "metadata": {},
     "output_type": "execute_result"
    },
    {
     "data": {
      "image/png": "[encoded data removed]",
      "text/plain": [
       "<Figure size 432x288 with 1 Axes>"
      ]
     },
     "metadata": {
      "needs_background": "light"
     },
     "output_type": "display_data"
    }
   ],
   "source": [
    "# Calculate variance\n",
    "sy2 = y.var()\n",
    "# Magnitude of kth harmonic\n",
    "C_k = abs(Hk[1:(int(n/2)+1)])/(n/2)\n",
    "# Plot 'bar graph'\n",
    "plt.bar(np.arange(1,int(n/2)+1),(n*C_k**2/(2*(n-1)*sy)))\n",
    "plt.yscale('log')\n",
    "plt.xticks(np.arange(1,(int(n/2)+1)),np.round(n/np.arange(1,(int(n/2)+1)),2))\n",
    "plt.axis([0.5,12.5,0.00009,1.5])\n",
    "plt.ylabel('Normalised Spectral Density')\n",
    "plt.xlabel('Period, $\\tau_k$ (months)')\n"
   ]
  },
  {
   "cell_type": "markdown",
   "metadata": {},
   "source": [
    "# "
   ]
  },
  {
   "cell_type": "markdown",
   "metadata": {},
   "source": []
  },
  {
   "cell_type": "markdown",
   "metadata": {},
   "source": []
  },
  {
   "cell_type": "markdown",
   "metadata": {},
   "source": []
  },
  {
   "cell_type": "markdown",
   "metadata": {
    "id": "UcaqAkrbc7B2",
    "slideshow": {
     "slide_type": "slide"
    }
   },
   "source": [
    "## 4. Exercise\n",
    "\n",
    "----\n",
    "\n",
    "Get into groups of 3-4 and complete the following:\n",
    "\n",
    "1.   Explore ways of removing the sesonal cycle from the Ithaca temperature data using the methods above. What is the general way to construct a time series with/without certain modes of variability.\n",
    "\n",
    "2.   Add in higher frequency modes of variability to the Ithaca times series. Show how these can be picked up by the FFT and also illustrate how they may not. Discuss in relation to the Nyquvist frequency.\n",
    "\n",
    "3. Why is Wilks different?\n",
    "\n",
    "### Answers:\n",
    "\n",
    "1.We can express $y_i$ using\n",
    "\n",
    "$$ y_i = \\sum_{k=1}^{n/2} A_k \\cos\\left(\\frac{2\\pi i k}{n}\\right) + B_k \\sin\\left(\\frac{2\\pi i k}{n}\\right) + \\overline{y}. $$\n",
    "\n",
    "If we want to filter out the $l$th harmonic (or mupltiple harmonics) we can reconstruct the filtered data using\n",
    "\n",
    "$$ y^{filtered}_i = \\sum_{k\\neq l}^{n/2} A_k \\cos\\left(\\frac{2\\pi i k}{n}\\right) + B_k \\sin\\left(\\frac{2\\pi i k}{n}\\right)+ \\overline{y}$$.\n",
    "\n",
    "Essentially the process here is to take a Fourier Transform which moves the data into the frequency domain, remove certain aspects of the frequency domain data, then restore the remaining signal to the time domain.\n",
    "\n",
    "2 and 3: \n",
    "\n",
    "To be continued...\n",
    "\n",
    "\n",
    "\n",
    "\n",
    "\n",
    "----"
   ]
  },
  {
   "cell_type": "markdown",
   "metadata": {
    "id": "7Pzl57P_Blfj",
    "slideshow": {
     "slide_type": "slide"
    }
   },
   "source": [
    "# 6. Extra\n",
    "\n",
    "If everyone in your group is finished and getting bored here are a few things you can get started on:\n",
    "\n",
    " - Go to the Australian Buerau of Meterorlogy's website and download data for your first assessment task and begin to explore with your group."
   ]
  }
 ],
 "metadata": {
  "celltoolbar": "Slideshow",
  "colab": {
   "collapsed_sections": [],
   "name": "MATH5271 Lab 2 Time Series.ipynb",
   "provenance": []
  },
  "kernelspec": {
   "display_name": "Python 3 (ipykernel)",
   "language": "python",
   "name": "python3"
  },
  "language_info": {
   "codemirror_mode": {
    "name": "ipython",
    "version": 3
   },
   "file_extension": ".py",
   "mimetype": "text/x-python",
   "name": "python",
   "nbconvert_exporter": "python",
   "pygments_lexer": "ipython3",
   "version": "3.9.7"
  }
 },
 "nbformat": 4,
 "nbformat_minor": 1
}
