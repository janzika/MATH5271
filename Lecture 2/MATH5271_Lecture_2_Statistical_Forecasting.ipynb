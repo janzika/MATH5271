{
 "cells": [
  {
   "cell_type": "markdown",
   "metadata": {
    "id": "pumJKWaN_KQp",
    "slideshow": {
     "slide_type": "slide"
    }
   },
   "source": [
    "# MATH5271 Environmental Data Science and Statistics\n",
    "\n",
    "\n",
    "\n",
    "## Week 2: Statistical Forecasting\n",
    "\n"
   ]
  },
  {
   "cell_type": "markdown",
   "metadata": {
    "slideshow": {
     "slide_type": "slide"
    }
   },
   "source": [
    "Welcome to Week 2 of MATH5271. In this session we will discuss Statistical Forecasting. By the end of this session you should understand:\n",
    "\n",
    "- General concepts of statistical versus process based model forecasting;\n",
    "- Important mathematical aspects of simple statistical forecasting;\n",
    "- How process based and statistical models are integrated to generate useful forecasts."
   ]
  },
  {
   "cell_type": "markdown",
   "metadata": {
    "slideshow": {
     "slide_type": "slide"
    }
   },
   "source": [
    "## About these notes\n",
    "\n",
    "I plan to make some lectures using an extension to Python based Jupyter Notebooks called [Rise](https://rise.readthedocs.io/en/stable/). I will give access to the code. This will mean you can see the calculations I have carried out and reproduce them yourselves. \n"
   ]
  },
  {
   "cell_type": "markdown",
   "metadata": {
    "id": "I1N5bw-kBB1e",
    "slideshow": {
     "slide_type": "skip"
    }
   },
   "source": [
    "## Setup and Load Data\n",
    "\n",
    "Before we get started we need to ensure we have the appropriate 'libraries' are installed. The .csv files we upload will be uploaded into a 'pandas' data frame. We will use the 'numpy' (numerical python) package to do some basic maths with the data and Matplotlib's 'pyplot' package to make some pretty graphs. "
   ]
  },
  {
   "cell_type": "code",
   "execution_count": 2,
   "metadata": {
    "id": "CvkqAIxihwge",
    "slideshow": {
     "slide_type": "skip"
    }
   },
   "outputs": [],
   "source": [
    "# import libraries\n",
    "import pandas as pd\n",
    "\n",
    "# Numerics\n",
    "import numpy as np\n",
    "\n",
    "# Plotting\n",
    "import matplotlib.pyplot as plt\n",
    "\n",
    "# plot figures in Colaboratory notebook\n",
    "%matplotlib inline\n",
    "\n",
    "# Define the URL where the data set is stored\n",
    "TableA1_url = 'https://raw.githubusercontent.com/janzika/MATH5271/main/Wilks_TableA1.csv' \n",
    "\n",
    "# Import the data set as a Pandas Dataframe using the 'read_csv' function\n",
    "df1 = pd.read_csv(TableA1_url)"
   ]
  },
  {
   "cell_type": "markdown",
   "metadata": {
    "id": "eRUk8d37HNr6",
    "slideshow": {
     "slide_type": "slide"
    }
   },
   "source": [
    "## Forecasting\n",
    "\n",
    "When forecasting, we aim to make a predictions, $\\hat{y}$, of the value of a specific 'predictand' $y_i$, as a function of a set of predictors ${\\bf x}_i$ such that\n",
    "\n",
    "$$y_i = \\hat{y}({\\bf x}_i)+e_i.$$\n",
    "\n",
    "Above, $e_i$ is the error between the prediction and predictand and $\\hat{y}$ is designed so that $e_i$ is as small as possible. Although $e_i$ is (of course) unknown a priori, its statistical properties are of as much interest as the central prediction."
   ]
  },
  {
   "cell_type": "markdown",
   "metadata": {
    "slideshow": {
     "slide_type": "slide"
    }
   },
   "source": [
    "## Statistical Forecasting vs What?\n",
    "\n",
    "Statistical forecasting involves developing the function $\\hat{y}$ and determining the nature of $e$ based on some prior knowledge of $y_i$ and $\\bf{x}_i$. (These are often called ‘training’ data.)\n"
   ]
  },
  {
   "cell_type": "markdown",
   "metadata": {
    "slideshow": {
     "slide_type": "slide"
    }
   },
   "source": [
    "What are alternative approaches and when/how are the different approaches applicable?\n",
    "\n",
    "Examples: \n",
    "- Arrival time of a Tsunami;\n",
    "- Number of Orange Bellied Parrots arriving for summer in Tasmania;\n",
    "- Possibility of a La Niña in 2023.\n"
   ]
  },
  {
   "cell_type": "markdown",
   "metadata": {
    "slideshow": {
     "slide_type": "slide"
    }
   },
   "source": [
    "![NINOForecast.png](https://raw.githubusercontent.com/janzika/MATH5271/main/Lecture%202/NINOForecast.png)\n",
    "Infographic adapted by Elisabeth Gawthrop from figure by Tony Barnston."
   ]
  },
  {
   "cell_type": "markdown",
   "metadata": {
    "id": "REaEFLU9vflL",
    "slideshow": {
     "slide_type": "slide"
    }
   },
   "source": [
    "### Linear Regression\n",
    "linear regression is a simple example of a forecasting system. For a predictor $x_i$ we have\n",
    "\n",
    "$$ y_i = a + b x_i +  e_i.$$\n",
    "\n",
    "In this case we can simply calculate the slope $b$ and the intercept $a$ using\n",
    "\n",
    "$$ b = \\frac{\\sum_{i=1}^n \\left[ (x_i - \\overline{x})((y_i - \\overline{y})\\right]}{\\sum_{i=1}^n (x_i - \\overline{x})^2} \\,\\, \\text{and}\\,\\, a = \\overline{y} - b \\overline{x}.$$\n"
   ]
  },
  {
   "cell_type": "markdown",
   "metadata": {
    "slideshow": {
     "slide_type": "slide"
    }
   },
   "source": [
    "This is garaunteed to minimise the mean of the square of the residuals \n",
    "\n",
    "$$ s_e^2 = \\frac{1}{n-2}\\sum_{i=1}^n e_i^2.$$\n",
    "\n",
    "Let's recreate this relationship based on Wilk's Ithaca and Canandaigua minimum temperatures."
   ]
  },
  {
   "cell_type": "code",
   "execution_count": 3,
   "metadata": {
    "colab": {
     "base_uri": "https://localhost:8080/",
     "height": 321
    },
    "id": "5GLxOMoQRoiE",
    "outputId": "12789ce6-6f55-4aed-bf9b-60b6caeab3a2",
    "slideshow": {
     "slide_type": "skip"
    }
   },
   "outputs": [],
   "source": [
    "# Subset just the Ithaca and Canandaigua data\n",
    "idf = df1[df1['Location'].isin(['Ithaca'])]\n",
    "x = idf.MinTemp_Far.values\n",
    "cdf = df1[df1['Location'].isin(['Canandaigua'])]\n",
    "y = cdf.MinTemp_Far.values\n",
    "n = x.shape[0]"
   ]
  },
  {
   "cell_type": "code",
   "execution_count": 4,
   "metadata": {
    "slideshow": {
     "slide_type": "slide"
    }
   },
   "outputs": [],
   "source": [
    "# Calculate b and a\n",
    "b = (n*np.sum(x*y)-np.sum(x)*np.sum(y))\\\n",
    "/(n*np.sum(x**2)-((np.sum(x))**2))\n",
    "a = y.mean() - b*x.mean()\n",
    "# Determine the least squares guess at 'y' (the Canandaigua temperature)\n",
    "y_lr = a + b*x;"
   ]
  },
  {
   "cell_type": "code",
   "execution_count": 4,
   "metadata": {
    "slideshow": {
     "slide_type": "slide"
    }
   },
   "outputs": [
    {
     "data": {
      "text/plain": [
       "<matplotlib.legend.Legend at 0x7fedd9103790>"
      ]
     },
     "execution_count": 4,
     "metadata": {},
     "output_type": "execute_result"
    },
    {
     "data": {
      "image/png": "[encoded data removed]",
      "text/plain": [
       "<Figure size 432x288 with 1 Axes>"
      ]
     },
     "metadata": {
      "needs_background": "light"
     },
     "output_type": "display_data"
    }
   ],
   "source": [
    "# Make the plot using matplotlib (plt)\n",
    "plt.scatter(x,y,label='Raw data');\n",
    "plt.plot(x,y_lr,'r',label='Linear Fit')\n",
    "plt.xlabel('Ithaca min. temp. ($x$, $^{\\circ}$F)')\n",
    "plt.ylabel('Canandaigua min. temp. ($y$, $^{\\circ}$F)')\n",
    "plt.legend()"
   ]
  },
  {
   "cell_type": "markdown",
   "metadata": {
    "id": "OEAzxCKAi2VA",
    "slideshow": {
     "slide_type": "slide"
    }
   },
   "source": [
    "This reveals the kind of relationship we were after. Now let's take a closer look at the uncertainty. \n",
    "\n",
    "The mean square of the resudials or MSE is often used as an estimate of the uncertainty but in fact we need to use the prediction variance which is\n",
    "\n",
    "$$ s^2_{\\hat{y}} = s_e^2\\left[ 1 + \\frac{1}{n} + \\frac{(x_0 - \\overline{x})^2}{\\sum_{i=1}^n(x_i - \\overline{x})^2}\\right].$$"
   ]
  },
  {
   "cell_type": "markdown",
   "metadata": {
    "slideshow": {
     "slide_type": "slide"
    }
   },
   "source": [
    "\n",
    "We can also determine the uncertainty in the fit line itself via the 'variance of the conditional mean'\n",
    "\n",
    "$$ s^2_{\\hat{y}|x_0} = s_e^2\\left[\\frac{1}{n} + \\frac{(x_0 - \\overline{x})^2}{\\sum_{i=1}^n(x_i - \\overline{x})^2}\\right].$$"
   ]
  },
  {
   "cell_type": "code",
   "execution_count": 5,
   "metadata": {
    "colab": {
     "base_uri": "https://localhost:8080/",
     "height": 325
    },
    "id": "ciVuecQvJ9sj",
    "outputId": "7c8da739-e9c6-49f1-bb85-736d74404530",
    "slideshow": {
     "slide_type": "slide"
    }
   },
   "outputs": [
    {
     "data": {
      "text/plain": [
       "Text(0, 0.5, 'Canandaigua min. temp. ($y$, $^{\\\\circ}$F)')"
      ]
     },
     "execution_count": 5,
     "metadata": {},
     "output_type": "execute_result"
    },
    {
     "data": {
      "image/png": "[encoded data removed]",
      "text/plain": [
       "<Figure size 432x288 with 1 Axes>"
      ]
     },
     "metadata": {
      "needs_background": "light"
     },
     "output_type": "display_data"
    }
   ],
   "source": [
    "# Determine the mean square error, the prediciton variance and variance of the \n",
    "# conditional mean\n",
    "se2  = (1/(n-2))*sum((y-y_lr)**2)\n",
    "sy2 = se2*(1+ (1/n) + (x-x.mean())**2/(sum((x-x.mean())**2)))\n",
    "syx02 = se2*((1/n) + (x-x.mean())**2/(sum((x-x.mean())**2)))\n",
    "# Plot\n",
    "plt.scatter(x,y)\n",
    "plt.plot(x,y_lr,'r')\n",
    "plt.plot(x,y_lr+1.96*np.sqrt(sy2),'k',x,y_lr-1.96*np.sqrt(sy2),'k')\n",
    "plt.plot(x,y_lr+1.96*np.sqrt(syx02),'g',x,y_lr-1.96*np.sqrt(syx02),'g')\n",
    "plt.xlabel('Ithaca min. temp. ($x$, $^{\\circ}$F)')\n",
    "plt.ylabel('Canandaigua min. temp. ($y$, $^{\\circ}$F)')"
   ]
  },
  {
   "cell_type": "markdown",
   "metadata": {
    "id": "ftxwGJYQIH8H",
    "slideshow": {
     "slide_type": "slide"
    }
   },
   "source": [
    "## Multiple Linear Regression\n",
    "Multiple linear regression allows for multiple ($K$) predictors \n",
    "\n",
    "$$ \\hat{y}(x_1,x_2,x_K) = b_0 + b_1 x_1 +  b_2 x_2 + ... + b_K x_K$$\n",
    "\n",
    "Furthermore, $x_i$ can be a ‘derived’ predictor variable such as $x^i$. This special case is a polynomial fit.\n",
    "\n",
    "$$ \\hat{y}(x) = b_0 + b_1 x +  b_2 x^2 + ... + b_K x^K$$\n",
    "\n",
    "The model itself is ‘non-linear’ but the regression is linear since we are just looking for the coefficients $b_i$."
   ]
  },
  {
   "cell_type": "markdown",
   "metadata": {
    "slideshow": {
     "slide_type": "slide"
    }
   },
   "source": [
    "## How to do multiple linear regression\n",
    "Python packages such as numpy have various inbuilt functions such as 'polyfit' for fitting polynomials and similar special cases. If we want to use mupltiple predictors then it is more general to set the problem up in matrix form such that\n",
    "\n",
    "$$ \\text{X} \\bf{b} = \\bf{y} $$\n",
    "\n",
    "where $\\text{A}$ is a K by n matrix of predictors, $\\bf{b}$ are the K unknown regression parameters and $\\bf{y}$ are the $n$ observations $y_i$. If n>K the inversion $\\bf{b} = \\text{X}^{-1} \\bf{y} $ is solved using least squares."
   ]
  },
  {
   "cell_type": "code",
   "execution_count": 5,
   "metadata": {
    "colab": {
     "base_uri": "https://localhost:8080/"
    },
    "id": "PJe2gIDUCiQl",
    "outputId": "3eb3ab60-59f9-4724-bdef-e9849118b675",
    "slideshow": {
     "slide_type": "slide"
    }
   },
   "outputs": [
    {
     "name": "stdout",
     "output_type": "stream",
     "text": [
      "12.459451311425987 0.597411933860532\n",
      "12.459451311425983 0.5974119338605315\n",
      "12.459451311425994 0.597411933860532\n"
     ]
    }
   ],
   "source": [
    "#Solve our simple linear fit using numpy's 'polyfit':\n",
    "[b_poly,a_poly] =  np.polyfit(x,y,1)\n",
    "\n",
    "#Solve using linear algebra:\n",
    "#Make a 2 by n matrix with 1s as the first column and the predictor x as the second\n",
    "X = np.array([1+0*x,x]).transpose()\n",
    "# Now we have A b = y and we can use numpy's 'linalg.lstsq' function\n",
    "bmat  = np.linalg.lstsq(X,y,rcond=None)\n",
    "\n",
    "#Compare direct, polyfit and matrix approaches\n",
    "print(a,b)\n",
    "print(a_poly,b_poly)\n",
    "print(bmat[0][0],bmat[0][1])"
   ]
  },
  {
   "cell_type": "markdown",
   "metadata": {
    "slideshow": {
     "slide_type": "slide"
    }
   },
   "source": [
    "## Analysis of variance and 'goodness' of fit\n",
    "\n",
    "![ANOVAtable.png](https://raw.githubusercontent.com/janzika/MATH5271/main/Lecture%202/ANOVAtable.png)\n",
    "\n",
    "$$ R^2 = \\frac{SSR}{SST} = 1 - \\frac{SSE}{SST}$$\n"
   ]
  },
  {
   "cell_type": "markdown",
   "metadata": {
    "slideshow": {
     "slide_type": "slide"
    }
   },
   "source": [
    "## Nonlinear Regression\n",
    "We can also do operations on the left hand side such as for ’Poisson Regression’  \n",
    "\n",
    "$$ \\ln(\\hat{y}) = b_0 + b_1 x_1 +  b_2 x_2 + ... + b_K x_K$$\n",
    "\n",
    "or 'Logistic Regression'\n",
    "\n",
    "$$ \\ln(\\hat{y}/(1-\\hat{y})) = b_0 + b_1 x_1 +  b_2 x_2 + ... + b_K x_K.$$\n",
    "\n",
    "Since we know the LHS and RHS can we simply solve this using the methods above?\n"
   ]
  },
  {
   "cell_type": "markdown",
   "metadata": {
    "slideshow": {
     "slide_type": "slide"
    }
   },
   "source": [
    "## What do these functions look like?\n",
    "\n",
    "\n",
    "\n",
    "## Where might each be useful?"
   ]
  },
  {
   "cell_type": "markdown",
   "metadata": {
    "slideshow": {
     "slide_type": "slide"
    }
   },
   "source": [
    "## Other Considerations?\n",
    "![scattererror.png](https://raw.githubusercontent.com/janzika/MATH5271/main/Lecture%202/scattererror.png)"
   ]
  },
  {
   "cell_type": "markdown",
   "metadata": {
    "slideshow": {
     "slide_type": "slide"
    }
   },
   "source": [
    "## Predictor Selection\n",
    "\n",
    "Why not use all available data to make a fit? What should be done instead?\n",
    "\n",
    "![predictorselection.png](https://raw.githubusercontent.com/janzika/MATH5271/main/Lecture%202/predictorselection.png)"
   ]
  },
  {
   "cell_type": "markdown",
   "metadata": {
    "slideshow": {
     "slide_type": "skip"
    }
   },
   "source": [
    "## Predictor Selection\n",
    "\n",
    "Why not use all available data to make a fit? What should be done instead?\n",
    "\n",
    "<div>\n",
    "<img src=\"https://raw.githubusercontent.com/janzika/MATH5271/main/Lecture%202/predictorselection.png\" width=\"400\"/>\n",
    "</div>\n"
   ]
  },
  {
   "cell_type": "markdown",
   "metadata": {
    "slideshow": {
     "slide_type": "slide"
    }
   },
   "source": [
    "![predictselect2.png](https://raw.githubusercontent.com/janzika/MATH5271/main/Lecture%202/predictselect2.png)"
   ]
  },
  {
   "cell_type": "markdown",
   "metadata": {
    "slideshow": {
     "slide_type": "slide"
    }
   },
   "source": [
    "## Process Based Model Forecasts\n",
    "\n",
    "![NWP.png](https://raw.githubusercontent.com/janzika/MATH5271/main/Lecture%202/NWP.png)\n",
    "\n",
    "https://www.youtube.com/watch?v=QrGrbiHBmWg&t=121s"
   ]
  },
  {
   "cell_type": "markdown",
   "metadata": {
    "slideshow": {
     "slide_type": "slide"
    }
   },
   "source": [
    "Process Based Model Forecasts\n",
    "\n",
    "![NWP2.png](https://raw.githubusercontent.com/janzika/MATH5271/main/Lecture%202/NWP2.png)"
   ]
  },
  {
   "cell_type": "markdown",
   "metadata": {
    "id": "I3zJBcmp_Epy",
    "slideshow": {
     "slide_type": "slide"
    }
   },
   "source": [
    "## Perfect Prog and MOS\n",
    "\n",
    "Classic Forecasting: $\\hat{y}_t = f_C(\\bf{x}_0)$\n",
    "\n",
    "Prefect Prog: \n",
    "\n",
    "$\\hat{y}_0 = f_{PP}(\\bf{x}_0)$ (development) and\n",
    "\n",
    "$\\hat{y}_t = f_{PP}(\\bf{x}_t)$ (implementation).\n",
    "\n",
    "Model Output Statistics (MOS): \n",
    "\n",
    "$\\hat{y}_t = f_{MOS}(\\bf{x}_t)$"
   ]
  },
  {
   "cell_type": "markdown",
   "metadata": {
    "slideshow": {
     "slide_type": "skip"
    }
   },
   "source": [
    "## Perfect Prog and MOS\n",
    "\n",
    "<div>\n",
    "<img src=\"https://raw.githubusercontent.com/janzika/MATH5271/main/Lecture%202/ProgMOS.png\" width=\"500\"/>\n",
    "</div>"
   ]
  },
  {
   "cell_type": "markdown",
   "metadata": {
    "slideshow": {
     "slide_type": "slide"
    }
   },
   "source": [
    "## Perfect Prog and MOS\n",
    "\n",
    "![ProgMOS.png](https://raw.githubusercontent.com/janzika/MATH5271/main/Lecture%202/ProgMOS.png)"
   ]
  },
  {
   "cell_type": "markdown",
   "metadata": {
    "slideshow": {
     "slide_type": "slide"
    }
   },
   "source": [
    "## Ensemble forecasts and data assimilation\n",
    "\n",
    "![ensforecast.png](https://raw.githubusercontent.com/janzika/MATH5271/main/Lecture%202/ensforecast.png)\n",
    "\n",
    "A schematic representation of the data assimilation process from [Apte A. (2015) An Introduction to Data Assimilation](doi.org/10.1007/978-81-322-2547-8_4)\n"
   ]
  },
  {
   "cell_type": "markdown",
   "metadata": {
    "id": "UcaqAkrbc7B2",
    "slideshow": {
     "slide_type": "slide"
    }
   },
   "source": [
    "## Summary\n",
    "\n",
    "We have discussed:\n",
    "\n",
    "*   How linear regression works and how to do it in python;\n",
    "* Some aspects of nonlinear regression and overfitting;\n",
    "* How statistical forecasts can be combined with process based forecasts.\n"
   ]
  }
 ],
 "metadata": {
  "celltoolbar": "Slideshow",
  "colab": {
   "collapsed_sections": [
    "UcaqAkrbc7B2"
   ],
   "name": "MATH5271 Lab 5 Statistical Forecasting.ipynb",
   "provenance": []
  },
  "kernelspec": {
   "display_name": "Python 3 (ipykernel)",
   "language": "python",
   "name": "python3"
  },
  "language_info": {
   "codemirror_mode": {
    "name": "ipython",
    "version": 3
   },
   "file_extension": ".py",
   "mimetype": "text/x-python",
   "name": "python",
   "nbconvert_exporter": "python",
   "pygments_lexer": "ipython3",
   "version": "3.9.7"
  }
 },
 "nbformat": 4,
 "nbformat_minor": 1
}
